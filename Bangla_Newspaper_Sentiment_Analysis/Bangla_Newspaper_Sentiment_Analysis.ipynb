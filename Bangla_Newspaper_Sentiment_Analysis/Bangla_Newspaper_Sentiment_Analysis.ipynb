{
 "cells": [
  {
   "cell_type": "code",
   "execution_count": null,
   "metadata": {
    "id": "bHuUH9gPZJC-"
   },
   "outputs": [],
   "source": [
    "from google.colab import drive\n",
    "drive.mount('/content/gdrive')"
   ]
  },
  {
   "cell_type": "code",
   "execution_count": null,
   "metadata": {
    "id": "HcA7ApOqg6DO"
   },
   "outputs": [],
   "source": [
    "import pandas as pd\n",
    "df = pd.read_excel(\"gdrive/My Drive/Colab Notebooks/ok.xlsx\",encoding='utf-8')"
   ]
  },
  {
   "cell_type": "code",
   "execution_count": null,
   "metadata": {
    "id": "KCZRWnNng-ek"
   },
   "outputs": [],
   "source": [
    "df=df.drop(\"News Type\",axis=1)"
   ]
  },
  {
   "cell_type": "code",
   "execution_count": null,
   "metadata": {
    "colab": {
     "base_uri": "https://localhost:8080/",
     "height": 473
    },
    "id": "ZK29D38UyFjX",
    "outputId": "752c0692-fb27-42ea-835c-05390a806e2c"
   },
   "outputs": [
    {
     "data": {
      "text/html": [
       "<div>\n",
       "<style scoped>\n",
       "    .dataframe tbody tr th:only-of-type {\n",
       "        vertical-align: middle;\n",
       "    }\n",
       "\n",
       "    .dataframe tbody tr th {\n",
       "        vertical-align: top;\n",
       "    }\n",
       "\n",
       "    .dataframe thead th {\n",
       "        text-align: right;\n",
       "    }\n",
       "</style>\n",
       "<table border=\"1\" class=\"dataframe\">\n",
       "  <thead>\n",
       "    <tr style=\"text-align: right;\">\n",
       "      <th></th>\n",
       "      <th>Headline</th>\n",
       "      <th>Sentiment</th>\n",
       "    </tr>\n",
       "  </thead>\n",
       "  <tbody>\n",
       "    <tr>\n",
       "      <th>0</th>\n",
       "      <td>‘১২ মাসের নমনীয়’ সময়ের দিকে যেতে পারে ব্রেক্সিট</td>\n",
       "      <td>1</td>\n",
       "    </tr>\n",
       "    <tr>\n",
       "      <th>1</th>\n",
       "      <td>‘২০ রোজার মধ্যে পাটকল শ্রমিকদের মজুরি দিন’</td>\n",
       "      <td>1</td>\n",
       "    </tr>\n",
       "    <tr>\n",
       "      <th>2</th>\n",
       "      <td>‘২০০’ ডাকছে, তামিম রাঙাতে পারবেন তো?</td>\n",
       "      <td>1</td>\n",
       "    </tr>\n",
       "    <tr>\n",
       "      <th>3</th>\n",
       "      <td>‘২০টি মডেল ভবন তৈরি করে দেখান’</td>\n",
       "      <td>1</td>\n",
       "    </tr>\n",
       "    <tr>\n",
       "      <th>4</th>\n",
       "      <td>‘৬ মাসে ২০৮৩ নারী ও শিশু নির্যাতনের শিকার’</td>\n",
       "      <td>0</td>\n",
       "    </tr>\n",
       "    <tr>\n",
       "      <th>5</th>\n",
       "      <td>‘৯০ মাইল বেগে বল করলেই গ্রেট হওয়া যায় না’</td>\n",
       "      <td>1</td>\n",
       "    </tr>\n",
       "    <tr>\n",
       "      <th>6</th>\n",
       "      <td>‘অধ্যক্ষ সিরাজকে আপত্তিকর অবস্থায় দেখা গেছে’</td>\n",
       "      <td>0</td>\n",
       "    </tr>\n",
       "    <tr>\n",
       "      <th>7</th>\n",
       "      <td>‘অননুমেয়’ পাকিস্তানে ভয় সৌরভ-শচীনের</td>\n",
       "      <td>0</td>\n",
       "    </tr>\n",
       "    <tr>\n",
       "      <th>8</th>\n",
       "      <td>‘অনিল আম্বানির হয়ে দালালি করেছেন মোদি’</td>\n",
       "      <td>0</td>\n",
       "    </tr>\n",
       "    <tr>\n",
       "      <th>9</th>\n",
       "      <td>‘অনুরোধ, প্রযোজকের টাকা সঠিক খরচ করবেন’</td>\n",
       "      <td>1</td>\n",
       "    </tr>\n",
       "    <tr>\n",
       "      <th>10</th>\n",
       "      <td>‘অনেকে চিৎকার করছিলেন, বুবলী কই, বুবলী কই’</td>\n",
       "      <td>1</td>\n",
       "    </tr>\n",
       "    <tr>\n",
       "      <th>11</th>\n",
       "      <td>‘অনেকেই ছাত্রজীবনের কাজ সারা জীবন করে যাচ্ছেন’</td>\n",
       "      <td>1</td>\n",
       "    </tr>\n",
       "    <tr>\n",
       "      <th>12</th>\n",
       "      <td>‘অন্তত একটি প্রাণ বাঁচান’</td>\n",
       "      <td>1</td>\n",
       "    </tr>\n",
       "    <tr>\n",
       "      <th>13</th>\n",
       "      <td>‘অন্য কেউ থাকলে গোলের হ্যাটট্রিক করত’</td>\n",
       "      <td>0</td>\n",
       "    </tr>\n",
       "  </tbody>\n",
       "</table>\n",
       "</div>"
      ],
      "text/plain": [
       "                                           Headline  Sentiment\n",
       "0   ‘১২ মাসের নমনীয়’ সময়ের দিকে যেতে পারে ব্রেক্সিট          1\n",
       "1        ‘২০ রোজার মধ্যে পাটকল শ্রমিকদের মজুরি দিন’          1\n",
       "2              ‘২০০’ ডাকছে, তামিম রাঙাতে পারবেন তো?          1\n",
       "3                    ‘২০টি মডেল ভবন তৈরি করে দেখান’          1\n",
       "4        ‘৬ মাসে ২০৮৩ নারী ও শিশু নির্যাতনের শিকার’          0\n",
       "5         ‘৯০ মাইল বেগে বল করলেই গ্রেট হওয়া যায় না’          1\n",
       "6      ‘অধ্যক্ষ সিরাজকে আপত্তিকর অবস্থায় দেখা গেছে’          0\n",
       "7               ‘অননুমেয়’ পাকিস্তানে ভয় সৌরভ-শচীনের          0\n",
       "8            ‘অনিল আম্বানির হয়ে দালালি করেছেন মোদি’          0\n",
       "9           ‘অনুরোধ, প্রযোজকের টাকা সঠিক খরচ করবেন’          1\n",
       "10       ‘অনেকে চিৎকার করছিলেন, বুবলী কই, বুবলী কই’          1\n",
       "11   ‘অনেকেই ছাত্রজীবনের কাজ সারা জীবন করে যাচ্ছেন’          1\n",
       "12                        ‘অন্তত একটি প্রাণ বাঁচান’          1\n",
       "13            ‘অন্য কেউ থাকলে গোলের হ্যাটট্রিক করত’          0"
      ]
     },
     "execution_count": 4,
     "metadata": {
      "tags": []
     },
     "output_type": "execute_result"
    }
   ],
   "source": [
    "df.head(14)"
   ]
  },
  {
   "cell_type": "code",
   "execution_count": null,
   "metadata": {
    "colab": {
     "base_uri": "https://localhost:8080/",
     "height": 35
    },
    "id": "KNtrenXSc5Gn",
    "outputId": "a04445e9-f1c8-4396-db77-f73d6245da5f"
   },
   "outputs": [
    {
     "data": {
      "text/plain": [
       "Index(['Headline', 'Sentiment'], dtype='object')"
      ]
     },
     "execution_count": 5,
     "metadata": {
      "tags": []
     },
     "output_type": "execute_result"
    }
   ],
   "source": [
    "df.columns"
   ]
  },
  {
   "cell_type": "code",
   "execution_count": null,
   "metadata": {
    "colab": {
     "base_uri": "https://localhost:8080/",
     "height": 70
    },
    "id": "84J-uGnVdFWs",
    "outputId": "034bf983-00f4-42dd-c755-defb50c70857"
   },
   "outputs": [
    {
     "data": {
      "text/plain": [
       "Headline     object\n",
       "Sentiment     int64\n",
       "dtype: object"
      ]
     },
     "execution_count": 6,
     "metadata": {
      "tags": []
     },
     "output_type": "execute_result"
    }
   ],
   "source": [
    "df.dtypes"
   ]
  },
  {
   "cell_type": "code",
   "execution_count": null,
   "metadata": {
    "colab": {
     "base_uri": "https://localhost:8080/",
     "height": 35
    },
    "id": "yPBV4D3WdQWb",
    "outputId": "0ab96801-9158-48a4-85dc-147d68b028ff"
   },
   "outputs": [
    {
     "data": {
      "text/plain": [
       "(1619, 2)"
      ]
     },
     "execution_count": 7,
     "metadata": {
      "tags": []
     },
     "output_type": "execute_result"
    }
   ],
   "source": [
    "df.shape"
   ]
  },
  {
   "cell_type": "code",
   "execution_count": null,
   "metadata": {
    "colab": {
     "base_uri": "https://localhost:8080/",
     "height": 1000
    },
    "id": "GCQrdLsSdZcS",
    "outputId": "9de37f13-71bb-4167-b95f-f7675b9cad35"
   },
   "outputs": [
    {
     "data": {
      "text/plain": [
       "৩৮তম বিসিএসের লিখিত পরীক্ষার ফল এ মাসেই                                   2\n",
       "‘ভোট না দিলে সাড়া দেব না’                                                 1\n",
       "আফগান ক্রিকেটে গৃহযুদ্ধ?                                                  1\n",
       "কিছু ওসি-ডিসি নিজেদের জমিদার মনে করেন: হাইকোর্ট                           1\n",
       "অন্য রাজ্যেও হবে এনআরসি: অমিত শাহ                                         1\n",
       "কারিগরি শিক্ষায় ঝোঁক বাড়ছে                                                1\n",
       "অমৃতের সন্তান গিরিশ কারনাড                                                1\n",
       "‘টেস্ট খেলে’ ঠিকই করেছেন ধোনি                                             1\n",
       "‘হাস্তা লা ভিস্তা ধোনি’, তোপের মুখে আইসিসি                                1\n",
       "‘আব্বার মৃত্যুর সময় তামিমই ছিল পাশে’                                      1\n",
       "১৭ বছর পর...                                                              1\n",
       "কেমন ছিল ডাইনোসরদের শেষ দিন?                                              1\n",
       "কীভাবে বেছে নেব পড়ার বিষয়?                                                1\n",
       "৭৮৬ কোটি থেকে ৫ লাখ ২৩ হাজার কোটি টাকা                                    1\n",
       "খাবার হোক স্বাস্থ্যকর                                                     1\n",
       "কোথা থেকে আসবে, কোথায় যাবে                                                1\n",
       "ঘুষের টাকাসহ দুদকের হাতে গ্রেপ্তার মৎস্য কর্মকর্তা                        1\n",
       "আবারও ব্রেক্সিট চুক্তি প্রত্যাখ্যান করল ব্রিটিশ সাংসদেরা                  1\n",
       "কারেন্ট জালে পাখি নিধন                                                    1\n",
       "‘সমসাময়িক জীবনের বিপন্নতাটুকু বোঝার চেষ্টা করি’                           1\n",
       "অর্থনৈতিক গণতন্ত্র না থাকলে রাজনৈতিক গণতন্ত্রও থাকবে না: রেহমান সোবহান    1\n",
       "‘২০০’ ডাকছে, তামিম রাঙাতে পারবেন তো?                                      1\n",
       "৪০০ কোটি টাকা আত্মসাৎ মামলা, ১১ জনের বিদেশ যেতে মানা                      1\n",
       "আদালতে মারা গেলেন মিসরের সাবেক প্রেসিডেন্ট                                1\n",
       "কে জিতল, আর্টসেল না চিরকুট?                                               1\n",
       "কুমিল্লা পল্লী বিদ্যুতের ভুল!                                             1\n",
       "আপত্তিকর মন্তব্যে বরখাস্ত পাকিস্তানের মন্ত্রী                             1\n",
       "কাশিমপুর কারাগারে চিকিৎসা                                                 1\n",
       "কেঁচো খুঁড়তে পুরস্কার!                                                    1\n",
       "কীভাবে মনোযোগী হব?                                                        1\n",
       "                                                                         ..\n",
       "অভিনন্দনকে বালুশিল্পে অভিনন্দন                                            1\n",
       "খালি পেটে বেশি লিচু খাওয়া ঠিক নয়                                          1\n",
       "অনু মালিক নিষিদ্ধ!                                                        1\n",
       "কৃষককে ধানের ন্যায্যমূল্য দেব: কৃষিমন্ত্রী                                1\n",
       "‘ধর্ষণের অভিযোগ মামলায় নেই কেন?’                                          1\n",
       "‘এফডিসি থেকে সব আবর্জনা সরাতে চাই’                                        1\n",
       "কোহলিকে আউট করবেন, হুংকার দিলেন মঈন                                       1\n",
       "অমিত মুহুরী খুন : উত্তর খুঁজছে ডিবি                                       1\n",
       "‘গাঁজা হারিয়েছেন, ভয় নেই যোগাযোগ করুন’                                    1\n",
       "‘পাকিস্তানের ফিল্ডিং রাবিশ’                                               1\n",
       "আনোয়ারের চায়ের চমক                                                        1\n",
       "৩০ ডিসেম্বরের পরের বাংলাদেশ                                               1\n",
       "খয়রাতি জীবনে বৈশাখী উল্লাস!                                               1\n",
       "ক্লুনিদের বাড়িতে ডেটিংয়ের সুযোগ                                           1\n",
       "অন্য বিশ্ববিদ্যালয়ের জন্য আমরা হব রোল মডেল                                1\n",
       "কুয়েটে ভর্তি পরীক্ষা ২৭ অক্টোবর                                           1\n",
       "‘মিরাজ ঠিক আছে’                                                           1\n",
       "আবার এল ডেঙ্গুর মৌসুম                                                     1\n",
       "‘আজ যেন শৈশবে ব্যাক করেছি’                                                1\n",
       "আত্মঘাতী হামলাকারীদের একজন শ্রীলঙ্কান কোটিপতির স্ত্রী?                    1\n",
       "ক্যানসার যাঁকে সাহসী করেছে                                                1\n",
       "‘গুলবদিন হয় গর্দভ, নয় ম্যাচ পাতিয়েছে’                                     1\n",
       "কুষ্টিয়ায় মাদক ব্যবসায়ীর যাবজ্জীবন                                        1\n",
       "অন্যের সমাদর করতে হবে                                                     1\n",
       "‘মানুষের প্রতি যে কর্তব্য, সেগুলো এখন লেখকেরা করছেন না’                   1\n",
       "কেনা হচ্ছে টিভি, ফ্রিজ ও এসি                                              1\n",
       "আজব বোতাম                                                                 1\n",
       "‘আমার সমাজতন্ত্র’ প্রকাশনা উৎসব আজ                                        1\n",
       "‘অস্ট্রেলিয়ায় মুসলিমবিদ্বেষীদের কোনো স্থান নেই’                           1\n",
       "ক্যাম্পাসে বৈশাখী আমেজ                                                    1\n",
       "Name: Headline, Length: 1618, dtype: int64"
      ]
     },
     "execution_count": 8,
     "metadata": {
      "tags": []
     },
     "output_type": "execute_result"
    }
   ],
   "source": [
    "df['Headline'].value_counts()"
   ]
  },
  {
   "cell_type": "code",
   "execution_count": null,
   "metadata": {
    "colab": {
     "base_uri": "https://localhost:8080/",
     "height": 70
    },
    "id": "0gj0Ig1bd84V",
    "outputId": "29eb1855-4ed8-4ef9-f1a0-6c10ebbb93a9"
   },
   "outputs": [
    {
     "data": {
      "text/plain": [
       "Headline     0\n",
       "Sentiment    0\n",
       "dtype: int64"
      ]
     },
     "execution_count": 9,
     "metadata": {
      "tags": []
     },
     "output_type": "execute_result"
    }
   ],
   "source": [
    "df.isnull().sum()"
   ]
  },
  {
   "cell_type": "code",
   "execution_count": null,
   "metadata": {
    "colab": {
     "base_uri": "https://localhost:8080/",
     "height": 1000
    },
    "id": "ugKoCU5ReTpC",
    "outputId": "f4575029-99d2-4398-ad23-ffabf3be2e18"
   },
   "outputs": [
    {
     "data": {
      "text/html": [
       "<div>\n",
       "<style scoped>\n",
       "    .dataframe tbody tr th:only-of-type {\n",
       "        vertical-align: middle;\n",
       "    }\n",
       "\n",
       "    .dataframe tbody tr th {\n",
       "        vertical-align: top;\n",
       "    }\n",
       "\n",
       "    .dataframe thead th {\n",
       "        text-align: right;\n",
       "    }\n",
       "</style>\n",
       "<table border=\"1\" class=\"dataframe\">\n",
       "  <thead>\n",
       "    <tr style=\"text-align: right;\">\n",
       "      <th></th>\n",
       "      <th>Headline</th>\n",
       "      <th>Sentiment</th>\n",
       "    </tr>\n",
       "  </thead>\n",
       "  <tbody>\n",
       "    <tr>\n",
       "      <th>0</th>\n",
       "      <td>‘১২ মাসের নমনীয়’ সময়ের দিকে যেতে পারে ব্রেক্সিট</td>\n",
       "      <td>1</td>\n",
       "    </tr>\n",
       "    <tr>\n",
       "      <th>1</th>\n",
       "      <td>‘২০ রোজার মধ্যে পাটকল শ্রমিকদের মজুরি দিন’</td>\n",
       "      <td>1</td>\n",
       "    </tr>\n",
       "    <tr>\n",
       "      <th>2</th>\n",
       "      <td>‘২০০’ ডাকছে, তামিম রাঙাতে পারবেন তো?</td>\n",
       "      <td>1</td>\n",
       "    </tr>\n",
       "    <tr>\n",
       "      <th>3</th>\n",
       "      <td>‘২০টি মডেল ভবন তৈরি করে দেখান’</td>\n",
       "      <td>1</td>\n",
       "    </tr>\n",
       "    <tr>\n",
       "      <th>4</th>\n",
       "      <td>‘৬ মাসে ২০৮৩ নারী ও শিশু নির্যাতনের শিকার’</td>\n",
       "      <td>0</td>\n",
       "    </tr>\n",
       "    <tr>\n",
       "      <th>5</th>\n",
       "      <td>‘৯০ মাইল বেগে বল করলেই গ্রেট হওয়া যায় না’</td>\n",
       "      <td>1</td>\n",
       "    </tr>\n",
       "    <tr>\n",
       "      <th>6</th>\n",
       "      <td>‘অধ্যক্ষ সিরাজকে আপত্তিকর অবস্থায় দেখা গেছে’</td>\n",
       "      <td>0</td>\n",
       "    </tr>\n",
       "    <tr>\n",
       "      <th>7</th>\n",
       "      <td>‘অননুমেয়’ পাকিস্তানে ভয় সৌরভ-শচীনের</td>\n",
       "      <td>0</td>\n",
       "    </tr>\n",
       "    <tr>\n",
       "      <th>8</th>\n",
       "      <td>‘অনিল আম্বানির হয়ে দালালি করেছেন মোদি’</td>\n",
       "      <td>0</td>\n",
       "    </tr>\n",
       "    <tr>\n",
       "      <th>9</th>\n",
       "      <td>‘অনুরোধ, প্রযোজকের টাকা সঠিক খরচ করবেন’</td>\n",
       "      <td>1</td>\n",
       "    </tr>\n",
       "    <tr>\n",
       "      <th>10</th>\n",
       "      <td>‘অনেকে চিৎকার করছিলেন, বুবলী কই, বুবলী কই’</td>\n",
       "      <td>1</td>\n",
       "    </tr>\n",
       "    <tr>\n",
       "      <th>11</th>\n",
       "      <td>‘অনেকেই ছাত্রজীবনের কাজ সারা জীবন করে যাচ্ছেন’</td>\n",
       "      <td>1</td>\n",
       "    </tr>\n",
       "    <tr>\n",
       "      <th>12</th>\n",
       "      <td>‘অন্তত একটি প্রাণ বাঁচান’</td>\n",
       "      <td>1</td>\n",
       "    </tr>\n",
       "    <tr>\n",
       "      <th>13</th>\n",
       "      <td>‘অন্য কেউ থাকলে গোলের হ্যাটট্রিক করত’</td>\n",
       "      <td>0</td>\n",
       "    </tr>\n",
       "    <tr>\n",
       "      <th>14</th>\n",
       "      <td>‘অন্য’ কারিনা</td>\n",
       "      <td>1</td>\n",
       "    </tr>\n",
       "    <tr>\n",
       "      <th>15</th>\n",
       "      <td>‘অপয়া’ সাদা জার্সি যে কারণে ফিরিয়ে আনল ব্রাজিল</td>\n",
       "      <td>1</td>\n",
       "    </tr>\n",
       "    <tr>\n",
       "      <th>16</th>\n",
       "      <td>‘অবিশ্বাস্য’ মাহমুদউল্লাহকেও ছাড়িয়ে, রথী-মহারথ...</td>\n",
       "      <td>1</td>\n",
       "    </tr>\n",
       "    <tr>\n",
       "      <th>17</th>\n",
       "      <td>‘অবৈধ’ ৩৫ কোটি টাকা এমডির ব্যাংক হিসাবে</td>\n",
       "      <td>0</td>\n",
       "    </tr>\n",
       "    <tr>\n",
       "      <th>18</th>\n",
       "      <td>‘অর্থ’ ঢাললেই ফিলিস্তিন সংকটের সমাধান মিলবে না</td>\n",
       "      <td>0</td>\n",
       "    </tr>\n",
       "    <tr>\n",
       "      <th>19</th>\n",
       "      <td>‘অশ্রুজলে বিবর্ণ’ নুসরাত পরিবারে কবে ঈদ আসবে?</td>\n",
       "      <td>0</td>\n",
       "    </tr>\n",
       "    <tr>\n",
       "      <th>20</th>\n",
       "      <td>‘অসুখী দিন’ শেষে আবার উপন্যাসে</td>\n",
       "      <td>1</td>\n",
       "    </tr>\n",
       "    <tr>\n",
       "      <th>21</th>\n",
       "      <td>‘অস্ট্রেলিয়ায় মুসলিমবিদ্বেষীদের কোনো স্থান নেই’</td>\n",
       "      <td>1</td>\n",
       "    </tr>\n",
       "    <tr>\n",
       "      <th>22</th>\n",
       "      <td>‘অ্যাভেঞ্জার্স: এন্ডগেম’ কি তবে নতুন শুরু?</td>\n",
       "      <td>1</td>\n",
       "    </tr>\n",
       "    <tr>\n",
       "      <th>23</th>\n",
       "      <td>‘আই লাভ ইউ বাবুই’</td>\n",
       "      <td>1</td>\n",
       "    </tr>\n",
       "    <tr>\n",
       "      <th>24</th>\n",
       "      <td>‘আইটেম’ আবার কী!</td>\n",
       "      <td>1</td>\n",
       "    </tr>\n",
       "    <tr>\n",
       "      <th>25</th>\n",
       "      <td>‘আউটগুলো আমার নিয়ন্ত্রণে ছিল না’</td>\n",
       "      <td>0</td>\n",
       "    </tr>\n",
       "    <tr>\n",
       "      <th>26</th>\n",
       "      <td>‘আগল ভেঙে আসবে পাগল...’</td>\n",
       "      <td>0</td>\n",
       "    </tr>\n",
       "    <tr>\n",
       "      <th>27</th>\n",
       "      <td>‘আগামী দিনের সাংবাদিকতা পুরোটাই হবে মোবাইল-নির...</td>\n",
       "      <td>1</td>\n",
       "    </tr>\n",
       "    <tr>\n",
       "      <th>28</th>\n",
       "      <td>‘আজ তোদের সবাইকে খুন করব’</td>\n",
       "      <td>0</td>\n",
       "    </tr>\n",
       "    <tr>\n",
       "      <th>29</th>\n",
       "      <td>‘আজ যেন শৈশবে ব্যাক করেছি’</td>\n",
       "      <td>1</td>\n",
       "    </tr>\n",
       "    <tr>\n",
       "      <th>...</th>\n",
       "      <td>...</td>\n",
       "      <td>...</td>\n",
       "    </tr>\n",
       "    <tr>\n",
       "      <th>1589</th>\n",
       "      <td>গরমের শুরুতে এসির যত্ন</td>\n",
       "      <td>1</td>\n",
       "    </tr>\n",
       "    <tr>\n",
       "      <th>1590</th>\n",
       "      <td>গরু কিনতে বেরিয়ে ঝুলন্ত লাশ হলেন তিনি</td>\n",
       "      <td>0</td>\n",
       "    </tr>\n",
       "    <tr>\n",
       "      <th>1591</th>\n",
       "      <td>গরু তাড়াতে কৃষক মরিয়া</td>\n",
       "      <td>0</td>\n",
       "    </tr>\n",
       "    <tr>\n",
       "      <th>1592</th>\n",
       "      <td>গরু, দুধ, লাথি...বিতর্কে মমতা</td>\n",
       "      <td>0</td>\n",
       "    </tr>\n",
       "    <tr>\n",
       "      <th>1593</th>\n",
       "      <td>গরু–খাসি–মুরগির নানা পদ</td>\n",
       "      <td>1</td>\n",
       "    </tr>\n",
       "    <tr>\n",
       "      <th>1594</th>\n",
       "      <td>গরুর জন্য শৌচাগার</td>\n",
       "      <td>1</td>\n",
       "    </tr>\n",
       "    <tr>\n",
       "      <th>1595</th>\n",
       "      <td>গরুর দুধে শিশুর অ্যালার্জি</td>\n",
       "      <td>0</td>\n",
       "    </tr>\n",
       "    <tr>\n",
       "      <th>1596</th>\n",
       "      <td>গর্ভ থেকে বের করে ভ্রূণের অস্ত্রোপচার!</td>\n",
       "      <td>0</td>\n",
       "    </tr>\n",
       "    <tr>\n",
       "      <th>1597</th>\n",
       "      <td>গলার ত্বকের যত্ন</td>\n",
       "      <td>1</td>\n",
       "    </tr>\n",
       "    <tr>\n",
       "      <th>1598</th>\n",
       "      <td>গল্প কিংবা পরামর্শ</td>\n",
       "      <td>1</td>\n",
       "    </tr>\n",
       "    <tr>\n",
       "      <th>1599</th>\n",
       "      <td>গল্পের নাম ‘র‍্যাগ১৭’</td>\n",
       "      <td>1</td>\n",
       "    </tr>\n",
       "    <tr>\n",
       "      <th>1600</th>\n",
       "      <td>ঘরের বাইরে এলইডি বাতি</td>\n",
       "      <td>1</td>\n",
       "    </tr>\n",
       "    <tr>\n",
       "      <th>1601</th>\n",
       "      <td>ঘরের মাঠেই বিদায় নেবেন মাশরাফি</td>\n",
       "      <td>1</td>\n",
       "    </tr>\n",
       "    <tr>\n",
       "      <th>1602</th>\n",
       "      <td>ঘরের যন্ত্রপাতি কেনার ধুম</td>\n",
       "      <td>1</td>\n",
       "    </tr>\n",
       "    <tr>\n",
       "      <th>1603</th>\n",
       "      <td>ঘরোয়া পরিবেশে বাইরের খাবার</td>\n",
       "      <td>1</td>\n",
       "    </tr>\n",
       "    <tr>\n",
       "      <th>1604</th>\n",
       "      <td>ঘরোয়া বিনোদনে হোম থিয়েটার</td>\n",
       "      <td>1</td>\n",
       "    </tr>\n",
       "    <tr>\n",
       "      <th>1605</th>\n",
       "      <td>ঘুম কেন আসে না?</td>\n",
       "      <td>1</td>\n",
       "    </tr>\n",
       "    <tr>\n",
       "      <th>1606</th>\n",
       "      <td>ঘুমন্ত স্বামী-স্ত্রীর ওপর ধসে পড়ে পাহাড়</td>\n",
       "      <td>0</td>\n",
       "    </tr>\n",
       "    <tr>\n",
       "      <th>1607</th>\n",
       "      <td>ঘুমেই কি সৌন্দর্য</td>\n",
       "      <td>1</td>\n",
       "    </tr>\n",
       "    <tr>\n",
       "      <th>1608</th>\n",
       "      <td>ঘুমের আগে ত্বকের যত্ন</td>\n",
       "      <td>1</td>\n",
       "    </tr>\n",
       "    <tr>\n",
       "      <th>1609</th>\n",
       "      <td>ঘুমের মধ্যে পায়ের নড়াচড়া</td>\n",
       "      <td>0</td>\n",
       "    </tr>\n",
       "    <tr>\n",
       "      <th>1610</th>\n",
       "      <td>ঘুরছেন মাধুরী দীক্ষিত</td>\n",
       "      <td>0</td>\n",
       "    </tr>\n",
       "    <tr>\n",
       "      <th>1611</th>\n",
       "      <td>ঘুরে আসি মোড়ার হাটবাজার</td>\n",
       "      <td>1</td>\n",
       "    </tr>\n",
       "    <tr>\n",
       "      <th>1612</th>\n",
       "      <td>ঘুরে ঘুরে চিকিৎসা দেয় জীবনতরী</td>\n",
       "      <td>1</td>\n",
       "    </tr>\n",
       "    <tr>\n",
       "      <th>1613</th>\n",
       "      <td>ঘুরে দাঁড়ানো সম্ভব, মমতাকে আশ্বাস ‘ভোটগুরু’ প্...</td>\n",
       "      <td>1</td>\n",
       "    </tr>\n",
       "    <tr>\n",
       "      <th>1614</th>\n",
       "      <td>ঘুষ দিয়ে ভোট কিনছেন মে!</td>\n",
       "      <td>0</td>\n",
       "    </tr>\n",
       "    <tr>\n",
       "      <th>1615</th>\n",
       "      <td>ঘুষ না দেওয়ায় হয়রানি, দুদকের অভিযান</td>\n",
       "      <td>0</td>\n",
       "    </tr>\n",
       "    <tr>\n",
       "      <th>1616</th>\n",
       "      <td>ঘুষের টাকাসহ দুদকের হাতে গ্রেপ্তার মৎস্য কর্মক...</td>\n",
       "      <td>0</td>\n",
       "    </tr>\n",
       "    <tr>\n",
       "      <th>1617</th>\n",
       "      <td>ঘূর্ণিঝড় ফণী: ৮ লাখ বাসিন্দা সরিয়েছে ভারত</td>\n",
       "      <td>0</td>\n",
       "    </tr>\n",
       "    <tr>\n",
       "      <th>1618</th>\n",
       "      <td>ঘূর্ণিঝড় ফণীর বার্তা</td>\n",
       "      <td>1</td>\n",
       "    </tr>\n",
       "  </tbody>\n",
       "</table>\n",
       "<p>1619 rows × 2 columns</p>\n",
       "</div>"
      ],
      "text/plain": [
       "                                               Headline  Sentiment\n",
       "0       ‘১২ মাসের নমনীয়’ সময়ের দিকে যেতে পারে ব্রেক্সিট          1\n",
       "1            ‘২০ রোজার মধ্যে পাটকল শ্রমিকদের মজুরি দিন’          1\n",
       "2                  ‘২০০’ ডাকছে, তামিম রাঙাতে পারবেন তো?          1\n",
       "3                        ‘২০টি মডেল ভবন তৈরি করে দেখান’          1\n",
       "4            ‘৬ মাসে ২০৮৩ নারী ও শিশু নির্যাতনের শিকার’          0\n",
       "5             ‘৯০ মাইল বেগে বল করলেই গ্রেট হওয়া যায় না’          1\n",
       "6          ‘অধ্যক্ষ সিরাজকে আপত্তিকর অবস্থায় দেখা গেছে’          0\n",
       "7                   ‘অননুমেয়’ পাকিস্তানে ভয় সৌরভ-শচীনের          0\n",
       "8                ‘অনিল আম্বানির হয়ে দালালি করেছেন মোদি’          0\n",
       "9               ‘অনুরোধ, প্রযোজকের টাকা সঠিক খরচ করবেন’          1\n",
       "10           ‘অনেকে চিৎকার করছিলেন, বুবলী কই, বুবলী কই’          1\n",
       "11       ‘অনেকেই ছাত্রজীবনের কাজ সারা জীবন করে যাচ্ছেন’          1\n",
       "12                            ‘অন্তত একটি প্রাণ বাঁচান’          1\n",
       "13                ‘অন্য কেউ থাকলে গোলের হ্যাটট্রিক করত’          0\n",
       "14                                        ‘অন্য’ কারিনা          1\n",
       "15       ‘অপয়া’ সাদা জার্সি যে কারণে ফিরিয়ে আনল ব্রাজিল          1\n",
       "16    ‘অবিশ্বাস্য’ মাহমুদউল্লাহকেও ছাড়িয়ে, রথী-মহারথ...          1\n",
       "17              ‘অবৈধ’ ৩৫ কোটি টাকা এমডির ব্যাংক হিসাবে          0\n",
       "18       ‘অর্থ’ ঢাললেই ফিলিস্তিন সংকটের সমাধান মিলবে না          0\n",
       "19        ‘অশ্রুজলে বিবর্ণ’ নুসরাত পরিবারে কবে ঈদ আসবে?          0\n",
       "20                       ‘অসুখী দিন’ শেষে আবার উপন্যাসে          1\n",
       "21      ‘অস্ট্রেলিয়ায় মুসলিমবিদ্বেষীদের কোনো স্থান নেই’          1\n",
       "22           ‘অ্যাভেঞ্জার্স: এন্ডগেম’ কি তবে নতুন শুরু?          1\n",
       "23                                    ‘আই লাভ ইউ বাবুই’          1\n",
       "24                                     ‘আইটেম’ আবার কী!          1\n",
       "25                     ‘আউটগুলো আমার নিয়ন্ত্রণে ছিল না’          0\n",
       "26                              ‘আগল ভেঙে আসবে পাগল...’          0\n",
       "27    ‘আগামী দিনের সাংবাদিকতা পুরোটাই হবে মোবাইল-নির...          1\n",
       "28                            ‘আজ তোদের সবাইকে খুন করব’          0\n",
       "29                           ‘আজ যেন শৈশবে ব্যাক করেছি’          1\n",
       "...                                                 ...        ...\n",
       "1589                             গরমের শুরুতে এসির যত্ন          1\n",
       "1590              গরু কিনতে বেরিয়ে ঝুলন্ত লাশ হলেন তিনি          0\n",
       "1591                              গরু তাড়াতে কৃষক মরিয়া          0\n",
       "1592                      গরু, দুধ, লাথি...বিতর্কে মমতা          0\n",
       "1593                            গরু–খাসি–মুরগির নানা পদ          1\n",
       "1594                                  গরুর জন্য শৌচাগার          1\n",
       "1595                         গরুর দুধে শিশুর অ্যালার্জি          0\n",
       "1596             গর্ভ থেকে বের করে ভ্রূণের অস্ত্রোপচার!          0\n",
       "1597                                   গলার ত্বকের যত্ন          1\n",
       "1598                                 গল্প কিংবা পরামর্শ          1\n",
       "1599                              গল্পের নাম ‘র‍্যাগ১৭’          1\n",
       "1600                              ঘরের বাইরে এলইডি বাতি          1\n",
       "1601                     ঘরের মাঠেই বিদায় নেবেন মাশরাফি          1\n",
       "1602                          ঘরের যন্ত্রপাতি কেনার ধুম          1\n",
       "1603                        ঘরোয়া পরিবেশে বাইরের খাবার          1\n",
       "1604                          ঘরোয়া বিনোদনে হোম থিয়েটার          1\n",
       "1605                                    ঘুম কেন আসে না?          1\n",
       "1606            ঘুমন্ত স্বামী-স্ত্রীর ওপর ধসে পড়ে পাহাড়          0\n",
       "1607                                  ঘুমেই কি সৌন্দর্য          1\n",
       "1608                              ঘুমের আগে ত্বকের যত্ন          1\n",
       "1609                           ঘুমের মধ্যে পায়ের নড়াচড়া          0\n",
       "1610                              ঘুরছেন মাধুরী দীক্ষিত          0\n",
       "1611                            ঘুরে আসি মোড়ার হাটবাজার          1\n",
       "1612                      ঘুরে ঘুরে চিকিৎসা দেয় জীবনতরী          1\n",
       "1613  ঘুরে দাঁড়ানো সম্ভব, মমতাকে আশ্বাস ‘ভোটগুরু’ প্...          1\n",
       "1614                            ঘুষ দিয়ে ভোট কিনছেন মে!          0\n",
       "1615                ঘুষ না দেওয়ায় হয়রানি, দুদকের অভিযান          0\n",
       "1616  ঘুষের টাকাসহ দুদকের হাতে গ্রেপ্তার মৎস্য কর্মক...          0\n",
       "1617          ঘূর্ণিঝড় ফণী: ৮ লাখ বাসিন্দা সরিয়েছে ভারত          0\n",
       "1618                               ঘূর্ণিঝড় ফণীর বার্তা          1\n",
       "\n",
       "[1619 rows x 2 columns]"
      ]
     },
     "execution_count": 10,
     "metadata": {
      "tags": []
     },
     "output_type": "execute_result"
    }
   ],
   "source": [
    "df.dropna()"
   ]
  },
  {
   "cell_type": "code",
   "execution_count": null,
   "metadata": {
    "colab": {
     "base_uri": "https://localhost:8080/",
     "height": 195
    },
    "id": "vjvhVmnBhBGM",
    "outputId": "cc8fbae3-8594-4de4-ebaa-0f228cd38519"
   },
   "outputs": [
    {
     "name": "stdout",
     "output_type": "stream",
     "text": [
      "News: 1\n",
      "Text: ‘১২ মাসের নমনীয়’ সময়ের দিকে যেতে পারে ব্রেক্সিট\n",
      "News: 2\n",
      "Text: ‘২০ রোজার মধ্যে পাটকল শ্রমিকদের মজুরি দিন’\n",
      "News: 3\n",
      "Text: ‘২০০’ ডাকছে, তামিম রাঙাতে পারবেন তো?\n",
      "News: 4\n",
      "Text: ‘২০টি মডেল ভবন তৈরি করে দেখান’\n",
      "News: 5\n",
      "Text: ‘৬ মাসে ২০৮৩ নারী ও শিশু নির্যাতনের শিকার’\n"
     ]
    }
   ],
   "source": [
    "for i in range(5):\n",
    "    print(\"News:\",i+1)\n",
    "    print(\"Text:\",df.Headline[i])\n",
    "  "
   ]
  },
  {
   "cell_type": "code",
   "execution_count": null,
   "metadata": {
    "id": "o8-ZWvA-sbFZ"
   },
   "outputs": [],
   "source": [
    "import matplotlib.pyplot as plt\n",
    "import seaborn as sns\n",
    "%matplotlib inline"
   ]
  },
  {
   "cell_type": "code",
   "execution_count": null,
   "metadata": {
    "colab": {
     "base_uri": "https://localhost:8080/",
     "height": 287
    },
    "id": "aaFraO43sdfp",
    "outputId": "9a9caf2d-772e-4d87-c136-0a87b67442f5"
   },
   "outputs": [
    {
     "data": {
      "text/plain": [
       "<matplotlib.axes._subplots.AxesSubplot at 0x7fe7e93417f0>"
      ]
     },
     "execution_count": 13,
     "metadata": {
      "tags": []
     },
     "output_type": "execute_result"
    },
    {
     "data": {
      "image/png": "[encoded data removed]",
      "text/plain": [
       "<Figure size 432x288 with 1 Axes>"
      ]
     },
     "metadata": {
      "tags": []
     },
     "output_type": "display_data"
    }
   ],
   "source": [
    "df['Sentiment'].plot(kind='hist')"
   ]
  },
  {
   "cell_type": "code",
   "execution_count": null,
   "metadata": {
    "colab": {
     "base_uri": "https://localhost:8080/",
     "height": 352
    },
    "id": "n27mbYgC2q81",
    "outputId": "053c765c-cc86-4ad5-a9a8-9988362fb911"
   },
   "outputs": [
    {
     "data": {
      "text/html": [
       "<div>\n",
       "<style scoped>\n",
       "    .dataframe tbody tr th:only-of-type {\n",
       "        vertical-align: middle;\n",
       "    }\n",
       "\n",
       "    .dataframe tbody tr th {\n",
       "        vertical-align: top;\n",
       "    }\n",
       "\n",
       "    .dataframe thead th {\n",
       "        text-align: right;\n",
       "    }\n",
       "</style>\n",
       "<table border=\"1\" class=\"dataframe\">\n",
       "  <thead>\n",
       "    <tr style=\"text-align: right;\">\n",
       "      <th></th>\n",
       "      <th>Headline</th>\n",
       "      <th>Sentiment</th>\n",
       "      <th>length</th>\n",
       "    </tr>\n",
       "  </thead>\n",
       "  <tbody>\n",
       "    <tr>\n",
       "      <th>0</th>\n",
       "      <td>‘১২ মাসের নমনীয়’ সময়ের দিকে যেতে পারে ব্রেক্সিট</td>\n",
       "      <td>1</td>\n",
       "      <td>8</td>\n",
       "    </tr>\n",
       "    <tr>\n",
       "      <th>1</th>\n",
       "      <td>‘২০ রোজার মধ্যে পাটকল শ্রমিকদের মজুরি দিন’</td>\n",
       "      <td>1</td>\n",
       "      <td>7</td>\n",
       "    </tr>\n",
       "    <tr>\n",
       "      <th>2</th>\n",
       "      <td>‘২০০’ ডাকছে, তামিম রাঙাতে পারবেন তো?</td>\n",
       "      <td>1</td>\n",
       "      <td>6</td>\n",
       "    </tr>\n",
       "    <tr>\n",
       "      <th>3</th>\n",
       "      <td>‘২০টি মডেল ভবন তৈরি করে দেখান’</td>\n",
       "      <td>1</td>\n",
       "      <td>6</td>\n",
       "    </tr>\n",
       "    <tr>\n",
       "      <th>4</th>\n",
       "      <td>‘৬ মাসে ২০৮৩ নারী ও শিশু নির্যাতনের শিকার’</td>\n",
       "      <td>0</td>\n",
       "      <td>8</td>\n",
       "    </tr>\n",
       "    <tr>\n",
       "      <th>5</th>\n",
       "      <td>‘৯০ মাইল বেগে বল করলেই গ্রেট হওয়া যায় না’</td>\n",
       "      <td>1</td>\n",
       "      <td>9</td>\n",
       "    </tr>\n",
       "    <tr>\n",
       "      <th>6</th>\n",
       "      <td>‘অধ্যক্ষ সিরাজকে আপত্তিকর অবস্থায় দেখা গেছে’</td>\n",
       "      <td>0</td>\n",
       "      <td>6</td>\n",
       "    </tr>\n",
       "    <tr>\n",
       "      <th>7</th>\n",
       "      <td>‘অননুমেয়’ পাকিস্তানে ভয় সৌরভ-শচীনের</td>\n",
       "      <td>0</td>\n",
       "      <td>4</td>\n",
       "    </tr>\n",
       "    <tr>\n",
       "      <th>8</th>\n",
       "      <td>‘অনিল আম্বানির হয়ে দালালি করেছেন মোদি’</td>\n",
       "      <td>0</td>\n",
       "      <td>6</td>\n",
       "    </tr>\n",
       "    <tr>\n",
       "      <th>9</th>\n",
       "      <td>‘অনুরোধ, প্রযোজকের টাকা সঠিক খরচ করবেন’</td>\n",
       "      <td>1</td>\n",
       "      <td>6</td>\n",
       "    </tr>\n",
       "  </tbody>\n",
       "</table>\n",
       "</div>"
      ],
      "text/plain": [
       "                                          Headline  Sentiment  length\n",
       "0  ‘১২ মাসের নমনীয়’ সময়ের দিকে যেতে পারে ব্রেক্সিট          1       8\n",
       "1       ‘২০ রোজার মধ্যে পাটকল শ্রমিকদের মজুরি দিন’          1       7\n",
       "2             ‘২০০’ ডাকছে, তামিম রাঙাতে পারবেন তো?          1       6\n",
       "3                   ‘২০টি মডেল ভবন তৈরি করে দেখান’          1       6\n",
       "4       ‘৬ মাসে ২০৮৩ নারী ও শিশু নির্যাতনের শিকার’          0       8\n",
       "5        ‘৯০ মাইল বেগে বল করলেই গ্রেট হওয়া যায় না’          1       9\n",
       "6     ‘অধ্যক্ষ সিরাজকে আপত্তিকর অবস্থায় দেখা গেছে’          0       6\n",
       "7              ‘অননুমেয়’ পাকিস্তানে ভয় সৌরভ-শচীনের          0       4\n",
       "8           ‘অনিল আম্বানির হয়ে দালালি করেছেন মোদি’          0       6\n",
       "9          ‘অনুরোধ, প্রযোজকের টাকা সঠিক খরচ করবেন’          1       6"
      ]
     },
     "execution_count": 14,
     "metadata": {
      "tags": []
     },
     "output_type": "execute_result"
    }
   ],
   "source": [
    "df['length'] = df['Headline'].str.split().apply(len)\n",
    "df.head(10)\n"
   ]
  },
  {
   "cell_type": "code",
   "execution_count": null,
   "metadata": {
    "colab": {
     "base_uri": "https://localhost:8080/",
     "height": 390
    },
    "id": "GMRGVsyf3ZH7",
    "outputId": "3ea2728d-4c12-4911-8942-cad2e8faa852"
   },
   "outputs": [
    {
     "data": {
      "text/plain": [
       "array([<matplotlib.axes._subplots.AxesSubplot object at 0x7fe7e92d5080>,\n",
       "       <matplotlib.axes._subplots.AxesSubplot object at 0x7fe7e6981d30>],\n",
       "      dtype=object)"
      ]
     },
     "execution_count": 15,
     "metadata": {
      "tags": []
     },
     "output_type": "execute_result"
    },
    {
     "data": {
      "image/png": "[encoded data removed]",
      "text/plain": [
       "<Figure size 720x360 with 2 Axes>"
      ]
     },
     "metadata": {
      "tags": []
     },
     "output_type": "display_data"
    }
   ],
   "source": [
    "df.hist(column='length', by='Sentiment', bins=50,figsize=(10,5))"
   ]
  },
  {
   "cell_type": "code",
   "execution_count": null,
   "metadata": {
    "colab": {
     "base_uri": "https://localhost:8080/",
     "height": 177
    },
    "id": "a0EXOLgl4VS2",
    "outputId": "0fc6da09-5e92-4625-a556-5823eb2169ac"
   },
   "outputs": [
    {
     "data": {
      "text/plain": [
       "count    1619.000000\n",
       "mean        5.262508\n",
       "std         1.729450\n",
       "min         1.000000\n",
       "25%         4.000000\n",
       "50%         5.000000\n",
       "75%         6.000000\n",
       "max        14.000000\n",
       "Name: length, dtype: float64"
      ]
     },
     "execution_count": 16,
     "metadata": {
      "tags": []
     },
     "output_type": "execute_result"
    }
   ],
   "source": [
    "df.length.describe()"
   ]
  },
  {
   "cell_type": "code",
   "execution_count": null,
   "metadata": {
    "id": "c-uN6zgQYFDM"
   },
   "outputs": [],
   "source": [
    "import string \n",
    "def remove_punc(s):\n",
    "    table = str.maketrans({key: None for key in string.punctuation})\n",
    "    return s.translate(table)"
   ]
  },
  {
   "cell_type": "code",
   "execution_count": null,
   "metadata": {
    "colab": {
     "base_uri": "https://localhost:8080/",
     "height": 230
    },
    "id": "TWWuqiy7FXFP",
    "outputId": "46a25f75-9146-4e7d-9402-2f0b0c59afb1"
   },
   "outputs": [
    {
     "name": "stdout",
     "output_type": "stream",
     "text": [
      "0    ‘১২ মাসের নমনীয়’ সময়ের দিকে যেতে পারে ব্রেক্সিট\n",
      "1         ‘২০ রোজার মধ্যে পাটকল শ্রমিকদের মজুরি দিন’\n",
      "2               ‘২০০’ ডাকছে, তামিম রাঙাতে পারবেন তো?\n",
      "3                     ‘২০টি মডেল ভবন তৈরি করে দেখান’\n",
      "4         ‘৬ মাসে ২০৮৩ নারী ও শিশু নির্যাতনের শিকার’\n",
      "Name: Headline, dtype: object\n",
      "0    1\n",
      "1    1\n",
      "2    1\n",
      "3    1\n",
      "4    0\n",
      "Name: Sentiment, dtype: int64\n"
     ]
    }
   ],
   "source": [
    "x = df['Headline'].fillna(' ')\n",
    "y = df['Sentiment']\n",
    "print(x.head())\n",
    "print(y.head())"
   ]
  },
  {
   "cell_type": "code",
   "execution_count": null,
   "metadata": {
    "colab": {
     "base_uri": "https://localhost:8080/",
     "height": 35
    },
    "id": "B8ftRgTyYG4_",
    "outputId": "839490fa-a36c-4748-f8e4-231927eef2c8"
   },
   "outputs": [
    {
     "data": {
      "text/plain": [
       "(1619,)"
      ]
     },
     "execution_count": 19,
     "metadata": {
      "tags": []
     },
     "output_type": "execute_result"
    }
   ],
   "source": [
    "x = df['Headline'].apply(remove_punc)\n",
    "x.shape"
   ]
  },
  {
   "cell_type": "code",
   "execution_count": null,
   "metadata": {
    "id": "uF8CZYV-gQZL"
   },
   "outputs": [],
   "source": [
    "contractions = { \n",
    "\"বি.দ্র \": \"বিশেষ দ্রষ্টব্য\",\n",
    "\"ড.\": \"ডক্টর\",\n",
    "\"ডা.\": \"ডাক্তার\",\n",
    "\"ইঞ্জি:\": \"ইঞ্জিনিয়ার\",\n",
    "\"রেজি:\": \"রেজিস্ট্রেশন\",\n",
    "\"মি.\": \"মিস্টার\",\n",
    "\"মু.\": \"মুহাম্মদ\",\n",
    "\"মো.\": \"মোহাম্মদ\",\n",
    "}"
   ]
  },
  {
   "cell_type": "code",
   "execution_count": null,
   "metadata": {
    "id": "Afv8H-lzibWZ"
   },
   "outputs": [],
   "source": [
    "import re\n",
    "import string\n",
    "from collections import Counter\n",
    "vocab = Counter()\n",
    "def clean_text(x,remove_stopwords = False):\n",
    "    if True:\n",
    "        new_text = []\n",
    "        for word in x:\n",
    "            if word in contractions:\n",
    "                new_text.append(contractions[word])\n",
    "            else:\n",
    "                new_text.append(word)\n",
    "        x = \" \".join(new_text)\n",
    "    # Format words and remove unwanted characters\n",
    "    whitespace = re.compile(u\"[\\s\\u0020\\u00a0\\u1680\\u180e\\u202f\\u205f\\u3000\\u2000-\\u200a]+\", re.UNICODE)\n",
    "    bangla_digits = u\"[\\u09E6\\u09E7\\u09E8\\u09E9\\u09EA\\u09EB\\u09EC\\u09ED\\u09EE\\u09EF]+\"\n",
    "    english_chars = u\"[a-zA-Z0-9]\"\n",
    "    punc = u\"[(),$%^&*+={}\\[\\]:\\\"|\\'\\~`<>/,¦!?½£¶¼©⅐⅑⅒⅓⅔⅕⅖⅗⅘⅙⅚⅛⅜⅝⅞⅟↉¤¿º;-]+\"\n",
    "    bangla_fullstop = u\"\\u0964\"     #bangla fullstop(dari)\n",
    "    punctSeq   = u\"['\\\"“”‘’]+|[.?!,…]+|[:;]+\"\n",
    "    \n",
    "    x = re.sub(bangla_digits, \" \", x)\n",
    "    x = re.sub(punc, \" \", x)\n",
    "    x = re.sub(english_chars, \" \", x)\n",
    "    x = re.sub(bangla_fullstop, \" \", x)\n",
    "    x = re.sub(punctSeq, \" \", x)\n",
    "    x = whitespace.sub(\" \", x).strip()\n",
    "    \n",
    "    x = re.sub(r'https?:\\/\\/.*[\\r\\n]*', '', x, flags=re.MULTILINE)\n",
    "    x = re.sub(r'\\<a href', ' ', x)\n",
    "    x = re.sub(r'&amp;‘:‘ ’', '', x) \n",
    "    x = re.sub(r'[_\"\\-;%()|+&=*%.,!?:#$@\\[\\]/]। ,', ' ', x)\n",
    "    x = re.sub(r'<br />', ' ', x)\n",
    "    x = re.sub(r'\\'', ' ', x)\n",
    "    x = re.sub(r\"[\\@$#%~+-\\.\\'।\\\"]\",\" \",x)\n",
    "    x = re.sub(r\"(?m)^\\s+\", \"\", x)\n",
    "    x = re.sub(\"[()]\",\"\",x)\n",
    "    x = re.sub(\"[‘’]\",\"\",x)\n",
    "    x = re.sub(\"[!]\",\"\",x)\n",
    "    x = re.sub(\"[/]\",\"\",x)\n",
    "    x = re.sub(\"[:]\",\"\",x)\n",
    "    x = re.sub('\\ |\\?|\\.|\\!|\\/|\\;|\\:', ' ',x)\n",
    "    x = x.strip(\"/\")\n",
    "    \n",
    "    if remove_stopwords:\n",
    "        k = []\n",
    "        with open('gdrive/My Drive/Colab Notebooks/Banglastopword.txt', 'r',encoding=\"utf-8\") as f:\n",
    "            for word in f:\n",
    "                word = word.split()\n",
    "                k.append(word[0])\n",
    "            x = [t for t in x if t not in k]\n",
    "            x = \"\".join(x)\n",
    "   \n",
    "\n",
    "    return x"
   ]
  },
  {
   "cell_type": "code",
   "execution_count": null,
   "metadata": {
    "id": "03zUpuDJichP"
   },
   "outputs": [],
   "source": [
    "import matplotlib.pyplot as plt\n",
    "import seaborn as sns\n",
    "import nltk\n",
    "from nltk.corpus import stopwords\n",
    "import string\n",
    "import math\n",
    "from sklearn.feature_extraction.text import CountVectorizer\n",
    "from sklearn.model_selection import train_test_split, cross_val_score\n",
    "from sklearn.metrics import classification_report\n",
    "from sklearn.metrics import confusion_matrix, accuracy_score, roc_auc_score, roc_curve\n",
    "from sklearn.model_selection import GridSearchCV\n",
    "from sklearn import metrics\n",
    "%matplotlib inline"
   ]
  },
  {
   "cell_type": "code",
   "execution_count": null,
   "metadata": {
    "id": "bjLSII0yiqXK"
   },
   "outputs": [],
   "source": [
    "vocab = CountVectorizer(analyzer=clean_text,encoding='utf-8').fit(x)"
   ]
  },
  {
   "cell_type": "code",
   "execution_count": null,
   "metadata": {
    "colab": {
     "base_uri": "https://localhost:8080/",
     "height": 35
    },
    "id": "EW6UyIAYjFlx",
    "outputId": "56553ec0-d38c-404f-e396-b5541307cd7d"
   },
   "outputs": [
    {
     "name": "stdout",
     "output_type": "stream",
     "text": [
      "65\n"
     ]
    }
   ],
   "source": [
    "print(len(vocab.vocabulary_))"
   ]
  },
  {
   "cell_type": "code",
   "execution_count": null,
   "metadata": {
    "colab": {
     "base_uri": "https://localhost:8080/",
     "height": 35
    },
    "id": "Sii3nlkLlGbT",
    "outputId": "8ab145b6-d0f7-46ec-89db-caaac2440a92"
   },
   "outputs": [
    {
     "name": "stdout",
     "output_type": "stream",
     "text": [
      "‘১২ মাসের নমনীয়’ সময়ের দিকে যেতে পারে ব্রেক্সিট\n"
     ]
    }
   ],
   "source": [
    "r0 = x[0]\n",
    "print(r0)"
   ]
  },
  {
   "cell_type": "code",
   "execution_count": null,
   "metadata": {
    "colab": {
     "base_uri": "https://localhost:8080/",
     "height": 337
    },
    "id": "Y6g2ArvTlLEb",
    "outputId": "c28e9566-3e2c-4912-96c1-5583dfcc1078"
   },
   "outputs": [
    {
     "name": "stdout",
     "output_type": "stream",
     "text": [
      "  (0, 0)\t35\n",
      "  (0, 14)\t2\n",
      "  (0, 24)\t1\n",
      "  (0, 29)\t1\n",
      "  (0, 31)\t1\n",
      "  (0, 33)\t2\n",
      "  (0, 34)\t1\n",
      "  (0, 36)\t1\n",
      "  (0, 38)\t3\n",
      "  (0, 39)\t1\n",
      "  (0, 40)\t4\n",
      "  (0, 44)\t3\n",
      "  (0, 47)\t2\n",
      "  (0, 48)\t2\n",
      "  (0, 49)\t1\n",
      "  (0, 53)\t7\n",
      "  (0, 57)\t2\n",
      "  (0, 60)\t2\n"
     ]
    }
   ],
   "source": [
    "vocab0 = vocab.transform([r0])\n",
    "print(vocab0)"
   ]
  },
  {
   "cell_type": "code",
   "execution_count": null,
   "metadata": {
    "colab": {
     "base_uri": "https://localhost:8080/",
     "height": 52
    },
    "id": "1NX7hVoXlSJz",
    "outputId": "fcb8ae1d-6e12-4fcd-9c42-47864a8a1317"
   },
   "outputs": [
    {
     "name": "stdout",
     "output_type": "stream",
     "text": [
      "ু\n",
      "ু\n"
     ]
    }
   ],
   "source": [
    "print(vocab.get_feature_names()[50])\n",
    "print(vocab.get_feature_names()[50])"
   ]
  },
  {
   "cell_type": "code",
   "execution_count": null,
   "metadata": {
    "id": "eTzpDbk4ldOf"
   },
   "outputs": [],
   "source": [
    "x = vocab.transform(x)"
   ]
  },
  {
   "cell_type": "code",
   "execution_count": null,
   "metadata": {
    "colab": {
     "base_uri": "https://localhost:8080/",
     "height": 70
    },
    "id": "TbQzXNwLlyit",
    "outputId": "3ec0b568-9168-4856-d7dc-00276e120ba0"
   },
   "outputs": [
    {
     "name": "stdout",
     "output_type": "stream",
     "text": [
      "Shape of the sparse matrix:  (1619, 65)\n",
      "Non-Zero occurences:  28566\n",
      "Density of the matrix =  27.144961277141633\n"
     ]
    }
   ],
   "source": [
    "print(\"Shape of the sparse matrix: \", x.shape)\n",
    "print(\"Non-Zero occurences: \",x.nnz)\n",
    "density = (x.nnz/(x.shape[0]*x.shape[1]))*100\n",
    "print(\"Density of the matrix = \",density)"
   ]
  },
  {
   "cell_type": "code",
   "execution_count": null,
   "metadata": {
    "id": "szoWoV_Fl4kv"
   },
   "outputs": [],
   "source": [
    "x_train,x_test,y_train,y_test = train_test_split(x,y,test_size=0.15,random_state=101)"
   ]
  },
  {
   "cell_type": "code",
   "execution_count": null,
   "metadata": {
    "colab": {
     "base_uri": "https://localhost:8080/",
     "height": 248
    },
    "id": "5bji5DK1l-1B",
    "outputId": "67c28dad-21ff-46cd-ec27-1b4d0fa72359"
   },
   "outputs": [
    {
     "name": "stdout",
     "output_type": "stream",
     "text": [
      "Confusion Matrix for Multinomial Naive Bayes:\n",
      "[[ 17  53]\n",
      " [ 14 159]]\n",
      "Score: 72.43\n",
      "Classification Report:               precision    recall  f1-score   support\n",
      "\n",
      "           0       0.55      0.24      0.34        70\n",
      "           1       0.75      0.92      0.83       173\n",
      "\n",
      "    accuracy                           0.72       243\n",
      "   macro avg       0.65      0.58      0.58       243\n",
      "weighted avg       0.69      0.72      0.69       243\n",
      "\n"
     ]
    }
   ],
   "source": [
    "from sklearn.naive_bayes import MultinomialNB\n",
    "mnb = MultinomialNB()\n",
    "mnb.fit(x_train,y_train)\n",
    "predmnb = mnb.predict(x_test)\n",
    "print(\"Confusion Matrix for Multinomial Naive Bayes:\")\n",
    "print(confusion_matrix(y_test,predmnb))\n",
    "print(\"Score:\",round(accuracy_score(y_test,predmnb)*100,2))\n",
    "print(\"Classification Report:\",classification_report(y_test,predmnb))"
   ]
  },
  {
   "cell_type": "code",
   "execution_count": null,
   "metadata": {
    "colab": {
     "base_uri": "https://localhost:8080/",
     "height": 35
    },
    "id": "U-C7UqGOqSWJ",
    "outputId": "6a05c66d-cf23-4ec2-868c-71bfaaded22b"
   },
   "outputs": [
    {
     "name": "stdout",
     "output_type": "stream",
     "text": [
      "Accuracy: 72.42798353909465 %\n"
     ]
    }
   ],
   "source": [
    "acc1=metrics.accuracy_score(y_test, predmnb)\n",
    "print(\"Accuracy:\",acc1*100,\"%\")"
   ]
  },
  {
   "cell_type": "code",
   "execution_count": null,
   "metadata": {
    "colab": {
     "base_uri": "https://localhost:8080/",
     "height": 304
    },
    "id": "EdF2j8ltmKR1",
    "outputId": "7ac03dd9-4f6e-4c8e-a80f-431ebf9c9f0f"
   },
   "outputs": [
    {
     "name": "stdout",
     "output_type": "stream",
     "text": [
      "Confusion Matrix for Random Forest Classifier:\n",
      "[[ 24  46]\n",
      " [ 33 140]]\n",
      "Score: 67.49\n",
      "Classification Report:               precision    recall  f1-score   support\n",
      "\n",
      "           0       0.42      0.34      0.38        70\n",
      "           1       0.75      0.81      0.78       173\n",
      "\n",
      "    accuracy                           0.67       243\n",
      "   macro avg       0.59      0.58      0.58       243\n",
      "weighted avg       0.66      0.67      0.66       243\n",
      "\n"
     ]
    },
    {
     "name": "stderr",
     "output_type": "stream",
     "text": [
      "/usr/local/lib/python3.6/dist-packages/sklearn/ensemble/forest.py:245: FutureWarning: The default value of n_estimators will change from 10 in version 0.20 to 100 in 0.22.\n",
      "  \"10 in version 0.20 to 100 in 0.22.\", FutureWarning)\n"
     ]
    }
   ],
   "source": [
    "from sklearn.ensemble import RandomForestClassifier\n",
    "rmfr = RandomForestClassifier()\n",
    "rmfr.fit(x_train,y_train)\n",
    "predrmfr = rmfr.predict(x_test)\n",
    "print(\"Confusion Matrix for Random Forest Classifier:\")\n",
    "print(confusion_matrix(y_test,predrmfr))\n",
    "print(\"Score:\",round(accuracy_score(y_test,predrmfr)*100,2))\n",
    "print(\"Classification Report:\",classification_report(y_test,predrmfr))"
   ]
  },
  {
   "cell_type": "code",
   "execution_count": null,
   "metadata": {
    "colab": {
     "base_uri": "https://localhost:8080/",
     "height": 35
    },
    "id": "-E3J01dPqsVV",
    "outputId": "f2568f90-903c-4c2f-f0cb-8f09647478e9"
   },
   "outputs": [
    {
     "name": "stdout",
     "output_type": "stream",
     "text": [
      "Accuracy: 67.48971193415639 %\n"
     ]
    }
   ],
   "source": [
    "acc2=metrics.accuracy_score(y_test,predrmfr)\n",
    "print(\"Accuracy:\",acc2*100,\"%\")"
   ]
  },
  {
   "cell_type": "code",
   "execution_count": null,
   "metadata": {
    "colab": {
     "base_uri": "https://localhost:8080/",
     "height": 248
    },
    "id": "DXUkXZlNmTJk",
    "outputId": "0f654cdc-7849-412e-edef-93b5d7421a3e"
   },
   "outputs": [
    {
     "name": "stdout",
     "output_type": "stream",
     "text": [
      "Confusion Matrix for Decision Tree:\n",
      "[[ 27  43]\n",
      " [ 57 116]]\n",
      "Score: 58.85\n",
      "Classification Report:               precision    recall  f1-score   support\n",
      "\n",
      "           0       0.32      0.39      0.35        70\n",
      "           1       0.73      0.67      0.70       173\n",
      "\n",
      "    accuracy                           0.59       243\n",
      "   macro avg       0.53      0.53      0.52       243\n",
      "weighted avg       0.61      0.59      0.60       243\n",
      "\n"
     ]
    }
   ],
   "source": [
    "from sklearn.tree import DecisionTreeClassifier\n",
    "dt = DecisionTreeClassifier()\n",
    "dt.fit(x_train,y_train)\n",
    "preddt = dt.predict(x_test)\n",
    "print(\"Confusion Matrix for Decision Tree:\")\n",
    "print(confusion_matrix(y_test,preddt))\n",
    "print(\"Score:\",round(accuracy_score(y_test,preddt)*100,2))\n",
    "print(\"Classification Report:\",classification_report(y_test,preddt))"
   ]
  },
  {
   "cell_type": "code",
   "execution_count": null,
   "metadata": {
    "colab": {
     "base_uri": "https://localhost:8080/",
     "height": 35
    },
    "id": "jBkuxR6VrJSw",
    "outputId": "c32fb4e4-88f9-4c4a-a812-09a35768f83e"
   },
   "outputs": [
    {
     "name": "stdout",
     "output_type": "stream",
     "text": [
      "Accuracy: 58.8477366255144 %\n"
     ]
    }
   ],
   "source": [
    "acc3=metrics.accuracy_score(y_test,preddt)\n",
    "print(\"Accuracy:\",acc3*100,\"%\")"
   ]
  },
  {
   "cell_type": "code",
   "execution_count": null,
   "metadata": {
    "colab": {
     "base_uri": "https://localhost:8080/",
     "height": 304
    },
    "id": "W1hi9370mbmv",
    "outputId": "f213514f-9fa6-4836-e422-fd579f36c3fe"
   },
   "outputs": [
    {
     "name": "stderr",
     "output_type": "stream",
     "text": [
      "/usr/local/lib/python3.6/dist-packages/sklearn/svm/base.py:193: FutureWarning: The default value of gamma will change from 'auto' to 'scale' in version 0.22 to account better for unscaled features. Set gamma explicitly to 'auto' or 'scale' to avoid this warning.\n",
      "  \"avoid this warning.\", FutureWarning)\n"
     ]
    },
    {
     "name": "stdout",
     "output_type": "stream",
     "text": [
      "Confusion Matrix for Support Vector Machines:\n",
      "[[ 15  55]\n",
      " [  7 166]]\n",
      "Score: 74.49\n",
      "Classification Report:               precision    recall  f1-score   support\n",
      "\n",
      "           0       0.68      0.21      0.33        70\n",
      "           1       0.75      0.96      0.84       173\n",
      "\n",
      "    accuracy                           0.74       243\n",
      "   macro avg       0.72      0.59      0.58       243\n",
      "weighted avg       0.73      0.74      0.69       243\n",
      "\n"
     ]
    }
   ],
   "source": [
    "from sklearn.svm import SVC\n",
    "svm = SVC(random_state=101)\n",
    "svm.fit(x_train,y_train)\n",
    "predsvm = svm.predict(x_test)\n",
    "print(\"Confusion Matrix for Support Vector Machines:\")\n",
    "print(confusion_matrix(y_test,predsvm))\n",
    "print(\"Score:\",round(accuracy_score(y_test,predsvm)*100,2))\n",
    "print(\"Classification Report:\",classification_report(y_test,predsvm))"
   ]
  },
  {
   "cell_type": "code",
   "execution_count": null,
   "metadata": {
    "colab": {
     "base_uri": "https://localhost:8080/",
     "height": 35
    },
    "id": "zkG6UMkLrX69",
    "outputId": "0828bcb1-5bdc-4efa-d672-03df9b679af7"
   },
   "outputs": [
    {
     "name": "stdout",
     "output_type": "stream",
     "text": [
      "Accuracy: 74.48559670781893 %\n"
     ]
    }
   ],
   "source": [
    "acc4=metrics.accuracy_score(y_test,predsvm)\n",
    "print(\"Accuracy:\",acc4*100,\"%\")"
   ]
  },
  {
   "cell_type": "code",
   "execution_count": null,
   "metadata": {
    "colab": {
     "base_uri": "https://localhost:8080/",
     "height": 266
    },
    "id": "-9vaybbgmiyq",
    "outputId": "03773c73-1377-4a74-d4fb-b38011c5b62c"
   },
   "outputs": [
    {
     "name": "stdout",
     "output_type": "stream",
     "text": [
      "Confusion Matrix for K Neighbors Classifier:\n",
      "[[ 27  43]\n",
      " [ 36 137]]\n",
      "Score:  67.49\n",
      "Classification Report:\n",
      "              precision    recall  f1-score   support\n",
      "\n",
      "           0       0.43      0.39      0.41        70\n",
      "           1       0.76      0.79      0.78       173\n",
      "\n",
      "    accuracy                           0.67       243\n",
      "   macro avg       0.59      0.59      0.59       243\n",
      "weighted avg       0.67      0.67      0.67       243\n",
      "\n"
     ]
    }
   ],
   "source": [
    "from sklearn.neighbors import KNeighborsClassifier\n",
    "knn = KNeighborsClassifier(n_neighbors=3)\n",
    "knn.fit(x_train,y_train)\n",
    "predknn = knn.predict(x_test)\n",
    "print(\"Confusion Matrix for K Neighbors Classifier:\")\n",
    "print(confusion_matrix(y_test,predknn))\n",
    "print(\"Score: \",round(accuracy_score(y_test,predknn)*100,2))\n",
    "print(\"Classification Report:\")\n",
    "print(classification_report(y_test,predknn))"
   ]
  },
  {
   "cell_type": "code",
   "execution_count": null,
   "metadata": {
    "colab": {
     "base_uri": "https://localhost:8080/",
     "height": 35
    },
    "id": "pt6QPmvbre4P",
    "outputId": "452e2dcd-cdec-4d14-d99a-6bc505aecda9"
   },
   "outputs": [
    {
     "name": "stdout",
     "output_type": "stream",
     "text": [
      "Accuracy: 67.48971193415639 %\n"
     ]
    }
   ],
   "source": [
    "acc5=metrics.accuracy_score(y_test,predknn)\n",
    "print(\"Accuracy:\",acc5*100,\"%\")"
   ]
  },
  {
   "cell_type": "code",
   "execution_count": null,
   "metadata": {
    "colab": {
     "base_uri": "https://localhost:8080/",
     "height": 35
    },
    "id": "WsvqRW0cskD9",
    "outputId": "9325f341-3efa-461c-a0ef-845d2859dce7"
   },
   "outputs": [
    {
     "name": "stdout",
     "output_type": "stream",
     "text": [
      "রাজবাড়ীতে মোটরসাইকেল দুর্ঘটনায় কলেজ ছাত্রের মৃত্যু\n"
     ]
    }
   ],
   "source": [
    "headline=input()\n",
    "prt=vocab.transform([headline])"
   ]
  },
  {
   "cell_type": "code",
   "execution_count": null,
   "metadata": {
    "colab": {
     "base_uri": "https://localhost:8080/",
     "height": 52
    },
    "id": "HBAyX-1jmsz5",
    "outputId": "620422be-86ee-4a4e-9a98-e9dccf376eaf"
   },
   "outputs": [
    {
     "name": "stdout",
     "output_type": "stream",
     "text": [
      "Predicted Rating: [0]\n",
      "Negative News Headline\n"
     ]
    }
   ],
   "source": [
    "m1=svm.predict(prt)\n",
    "print(\"Predicted Rating:\",m1)\n",
    "if m1==0:\n",
    "  print(\"Negative News Headline\")\n",
    "else:\n",
    "  print(\"Positive News Headline\")"
   ]
  },
  {
   "cell_type": "code",
   "execution_count": null,
   "metadata": {
    "colab": {
     "base_uri": "https://localhost:8080/",
     "height": 52
    },
    "id": "DoX9qCIxm9Mc",
    "outputId": "d9823680-be9a-46b1-dccc-43e9c3f27b28"
   },
   "outputs": [
    {
     "name": "stdout",
     "output_type": "stream",
     "text": [
      "Predicted Rating: [1]\n",
      "Positive News Headline\n"
     ]
    }
   ],
   "source": [
    "m2=knn.predict(prt)\n",
    "print(\"Predicted Rating:\",m2)\n",
    "if m2==0:\n",
    "  print(\"Negative News Headline\")\n",
    "else: \n",
    "  print(\"Positive News Headline\")"
   ]
  },
  {
   "cell_type": "code",
   "execution_count": null,
   "metadata": {
    "colab": {
     "base_uri": "https://localhost:8080/",
     "height": 52
    },
    "id": "h0jsGtnKnfTI",
    "outputId": "3e8533db-c3ca-4652-d49a-88a1077d0040"
   },
   "outputs": [
    {
     "name": "stdout",
     "output_type": "stream",
     "text": [
      "Predicted Rating: [0]\n",
      "Negative News Headline\n"
     ]
    }
   ],
   "source": [
    "m3=dt.predict(prt)\n",
    "print(\"Predicted Rating:\",m3)\n",
    "if m3==0:\n",
    "  print(\"Negative News Headline\")\n",
    "else:\n",
    "  print(\"Positive News Headline\")"
   ]
  },
  {
   "cell_type": "code",
   "execution_count": null,
   "metadata": {
    "colab": {
     "base_uri": "https://localhost:8080/",
     "height": 52
    },
    "id": "bqf0Gl2YnoVO",
    "outputId": "6f13aaef-724b-4546-e233-4e439084b5d7"
   },
   "outputs": [
    {
     "name": "stdout",
     "output_type": "stream",
     "text": [
      "Predicted Rating: [0]\n",
      "Negative News Headline\n"
     ]
    }
   ],
   "source": [
    "m4=mnb.predict(prt)\n",
    "print(\"Predicted Rating:\",m4)\n",
    "if m4==0:\n",
    "  print(\"Negative News Headline\")\n",
    "else:\n",
    "  print(\"Positive News Headline\")"
   ]
  },
  {
   "cell_type": "code",
   "execution_count": null,
   "metadata": {
    "colab": {
     "base_uri": "https://localhost:8080/",
     "height": 52
    },
    "id": "7g3cEvpxn8w_",
    "outputId": "2068309a-2d75-4604-8f1e-88b3949806d7"
   },
   "outputs": [
    {
     "name": "stdout",
     "output_type": "stream",
     "text": [
      "Predicted Rating: [1]\n",
      "Positive News Headline\n"
     ]
    }
   ],
   "source": [
    "m5=rmfr.predict(prt)\n",
    "print(\"Predicted Rating:\",m5)\n",
    "if m5==0:\n",
    "  print(\"Negative News Headline\")\n",
    "else:\n",
    "  print(\"Positive News Headline\")"
   ]
  },
  {
   "cell_type": "code",
   "execution_count": null,
   "metadata": {
    "colab": {
     "base_uri": "https://localhost:8080/",
     "height": 452
    },
    "id": "1aNCtPnu_v51",
    "outputId": "2fc93f8a-d62a-47a7-c15c-460dcbf528f6"
   },
   "outputs": [
    {
     "data": {
      "image/png": "[encoded data removed]",
      "text/plain": [
       "<Figure size 640x480 with 1 Axes>"
      ]
     },
     "metadata": {
      "tags": []
     },
     "output_type": "display_data"
    }
   ],
   "source": [
    "import matplotlib.pyplot as plt; plt.rcdefaults()\n",
    "import numpy as np\n",
    "import matplotlib.pyplot as plt\n",
    "\n",
    "objects = ('NB','RF','DT','SVM','KNN')\n",
    "y_pos = np.arange(len(objects))\n",
    "performance = [acc1,acc2,acc3,acc4,acc5]\n",
    "\n",
    "plt.bar(y_pos, performance, align='center', alpha=0.5)\n",
    "plt.xticks(y_pos, objects)\n",
    "plt.ylabel('Score')\n",
    "plt.title('Best Accuracy')\n",
    "\n",
    "plt.show()"
   ]
  },
  {
   "cell_type": "code",
   "execution_count": null,
   "metadata": {
    "id": "cB8uNy0cVM9M"
   },
   "outputs": [],
   "source": []
  }
 ],
 "metadata": {
  "accelerator": "GPU",
  "colab": {
   "name": "Copy of Bangla Newspaper Sentiment Analysis.ipynb",
   "provenance": []
  },
  "kernelspec": {
   "display_name": "Python 3",
   "language": "python",
   "name": "python3"
  },
  "language_info": {
   "codemirror_mode": {
    "name": "ipython",
    "version": 3
   },
   "file_extension": ".py",
   "mimetype": "text/x-python",
   "name": "python",
   "nbconvert_exporter": "python",
   "pygments_lexer": "ipython3",
   "version": "3.7.4"
  }
 },
 "nbformat": 4,
 "nbformat_minor": 1
}
