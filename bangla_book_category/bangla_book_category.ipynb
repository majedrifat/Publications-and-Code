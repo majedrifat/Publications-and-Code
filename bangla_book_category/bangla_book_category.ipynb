{
  "nbformat": 4,
  "nbformat_minor": 0,
  "metadata": {
    "colab": {
      "name": "bangla",
      "provenance": []
    },
    "kernelspec": {
      "name": "python3",
      "display_name": "Python 3"
    },
    "accelerator": "GPU"
  },
  "cells": [
    {
      "cell_type": "code",
      "metadata": {
        "id": "Lo_sBn8aywet"
      },
      "source": [
        "\n",
        "data = pd.read_csv('/content/data1 - data2.csv')"
      ],
      "execution_count": null,
      "outputs": []
    },
    {
      "cell_type": "code",
      "metadata": {
        "id": "k380lhKZzSWw",
        "colab": {
          "base_uri": "https://localhost:8080/",
          "height": 35
        },
        "outputId": "cc1fe0e5-36b4-4eb5-c1fb-326f2db8886b"
      },
      "source": [
        "import numpy as np # linear algebra\n",
        "import pandas as pd # data processing, CSV file I/O (e.g. pd.read_csv)\n",
        "\n",
        "# Input data files are available in the \"../input/\" directory.\n",
        "# For example, running this (by clicking run or pressing Shift+Enter) will list the files in the input directory\n",
        "\n",
        "import os\n",
        "# print(os.listdir(\"../input\"))\n",
        "\n",
        "# Any results you write to the current directory are saved as output.\n",
        "import itertools\n",
        "import os\n",
        "\n",
        "%matplotlib inline\n",
        "import matplotlib.pyplot as plt\n",
        "import numpy as np\n",
        "import pandas as pd\n",
        "import tensorflow as tf\n",
        "\n",
        "from sklearn.preprocessing import LabelBinarizer, LabelEncoder\n",
        "from sklearn.metrics import confusion_matrix\n",
        "\n",
        "from tensorflow import keras\n",
        "layers = keras.layers\n",
        "models = keras.models\n",
        "\n",
        "\n",
        "# This code was tested with TensorFlow v1.8\n",
        "print(\"You have TensorFlow version\", tf.__version__)"
      ],
      "execution_count": null,
      "outputs": [
        {
          "output_type": "stream",
          "text": [
            "You have TensorFlow version 1.14.0\n"
          ],
          "name": "stdout"
        }
      ]
    },
    {
      "cell_type": "code",
      "metadata": {
        "id": "CwTztkSIzbiP",
        "colab": {
          "base_uri": "https://localhost:8080/",
          "height": 54
        },
        "outputId": "03a21242-de5a-4122-e8c6-660ab05a1b12"
      },
      "source": [
        "data['Category'].unique()"
      ],
      "execution_count": null,
      "outputs": [
        {
          "output_type": "execute_result",
          "data": {
            "text/plain": [
              "array(['ছড়া', 'চিরায়ত উপন্যাস', 'বাংলা কবিতা', 'সমকালীন উপন্যাস'],\n",
              "      dtype=object)"
            ]
          },
          "metadata": {
            "tags": []
          },
          "execution_count": 45
        }
      ]
    },
    {
      "cell_type": "code",
      "metadata": {
        "id": "wyeakfWOzywn",
        "colab": {
          "base_uri": "https://localhost:8080/",
          "height": 109
        },
        "outputId": "d9576aac-a3cf-4c9b-d117-7fdf6cb47c56"
      },
      "source": [
        "print(data['Category'].value_counts().sort_values)"
      ],
      "execution_count": null,
      "outputs": [
        {
          "output_type": "stream",
          "text": [
            "<bound method Series.sort_values of ছড়া                1500\n",
            "বাংলা কবিতা        1500\n",
            "সমকালীন উপন্যাস    1500\n",
            "চিরায়ত উপন্যাস     1464\n",
            "Name: Category, dtype: int64>\n"
          ],
          "name": "stdout"
        }
      ]
    },
    {
      "cell_type": "code",
      "metadata": {
        "id": "u9QA0aKnz12_",
        "colab": {
          "base_uri": "https://localhost:8080/",
          "height": 206
        },
        "outputId": "dc8b310f-1557-46ab-8e2a-12ee582c48ba"
      },
      "source": [
        "data.head()"
      ],
      "execution_count": null,
      "outputs": [
        {
          "output_type": "execute_result",
          "data": {
            "text/html": [
              "<div>\n",
              "<style scoped>\n",
              "    .dataframe tbody tr th:only-of-type {\n",
              "        vertical-align: middle;\n",
              "    }\n",
              "\n",
              "    .dataframe tbody tr th {\n",
              "        vertical-align: top;\n",
              "    }\n",
              "\n",
              "    .dataframe thead th {\n",
              "        text-align: right;\n",
              "    }\n",
              "</style>\n",
              "<table border=\"1\" class=\"dataframe\">\n",
              "  <thead>\n",
              "    <tr style=\"text-align: right;\">\n",
              "      <th></th>\n",
              "      <th>Title</th>\n",
              "      <th>Category</th>\n",
              "    </tr>\n",
              "  </thead>\n",
              "  <tbody>\n",
              "    <tr>\n",
              "      <th>0</th>\n",
              "      <td>ছড়ার ছন্দে জীবনানন্দে</td>\n",
              "      <td>ছড়া</td>\n",
              "    </tr>\n",
              "    <tr>\n",
              "      <th>1</th>\n",
              "      <td>ছড়ার বাড়ী তেপান্তরে</td>\n",
              "      <td>ছড়া</td>\n",
              "    </tr>\n",
              "    <tr>\n",
              "      <th>2</th>\n",
              "      <td>ছড়া আমাকে আদর দিও</td>\n",
              "      <td>ছড়া</td>\n",
              "    </tr>\n",
              "    <tr>\n",
              "      <th>3</th>\n",
              "      <td>রোদ ফিরে যাক পাতার কোলে</td>\n",
              "      <td>ছড়া</td>\n",
              "    </tr>\n",
              "    <tr>\n",
              "      <th>4</th>\n",
              "      <td>ধিতাং ধিতাং</td>\n",
              "      <td>ছড়া</td>\n",
              "    </tr>\n",
              "  </tbody>\n",
              "</table>\n",
              "</div>"
            ],
            "text/plain": [
              "                     Title Category\n",
              "0    ছড়ার ছন্দে জীবনানন্দে      ছড়া\n",
              "1      ছড়ার বাড়ী তেপান্তরে      ছড়া\n",
              "2        ছড়া আমাকে আদর দিও      ছড়া\n",
              "3  রোদ ফিরে যাক পাতার কোলে      ছড়া\n",
              "4              ধিতাং ধিতাং      ছড়া"
            ]
          },
          "metadata": {
            "tags": []
          },
          "execution_count": 47
        }
      ]
    },
    {
      "cell_type": "code",
      "metadata": {
        "id": "QoHYFT4Jz8i2"
      },
      "source": [
        "from sklearn.utils import shuffle\n",
        "data = shuffle(data)"
      ],
      "execution_count": null,
      "outputs": []
    },
    {
      "cell_type": "code",
      "metadata": {
        "id": "LuLgMmKw0AQo",
        "colab": {
          "base_uri": "https://localhost:8080/",
          "height": 363
        },
        "outputId": "2342bec0-5b13-4718-f2dd-506325a6dc4d"
      },
      "source": [
        "\n",
        "data.head(10)"
      ],
      "execution_count": null,
      "outputs": [
        {
          "output_type": "execute_result",
          "data": {
            "text/html": [
              "<div>\n",
              "<style scoped>\n",
              "    .dataframe tbody tr th:only-of-type {\n",
              "        vertical-align: middle;\n",
              "    }\n",
              "\n",
              "    .dataframe tbody tr th {\n",
              "        vertical-align: top;\n",
              "    }\n",
              "\n",
              "    .dataframe thead th {\n",
              "        text-align: right;\n",
              "    }\n",
              "</style>\n",
              "<table border=\"1\" class=\"dataframe\">\n",
              "  <thead>\n",
              "    <tr style=\"text-align: right;\">\n",
              "      <th></th>\n",
              "      <th>Title</th>\n",
              "      <th>Category</th>\n",
              "    </tr>\n",
              "  </thead>\n",
              "  <tbody>\n",
              "    <tr>\n",
              "      <th>1555</th>\n",
              "      <td>আনন্দমঠ</td>\n",
              "      <td>চিরায়ত উপন্যাস</td>\n",
              "    </tr>\n",
              "    <tr>\n",
              "      <th>5679</th>\n",
              "      <td>দ্বিতীয় প্রেম, প্রথম খেলার আগে</td>\n",
              "      <td>সমকালীন উপন্যাস</td>\n",
              "    </tr>\n",
              "    <tr>\n",
              "      <th>158</th>\n",
              "      <td>ইষ্টি কুটুম মিষ্টি কুটুম</td>\n",
              "      <td>ছড়া</td>\n",
              "    </tr>\n",
              "    <tr>\n",
              "      <th>4974</th>\n",
              "      <td>দ্বিতীয় প্রেম</td>\n",
              "      <td>সমকালীন উপন্যাস</td>\n",
              "    </tr>\n",
              "    <tr>\n",
              "      <th>4164</th>\n",
              "      <td>ব্যস্তমনের বহিঃপ্রকাশ</td>\n",
              "      <td>বাংলা কবিতা</td>\n",
              "    </tr>\n",
              "    <tr>\n",
              "      <th>262</th>\n",
              "      <td>নানার মস্ত বাড়ী</td>\n",
              "      <td>ছড়া</td>\n",
              "    </tr>\n",
              "    <tr>\n",
              "      <th>2628</th>\n",
              "      <td>প্রতীক্ষার সুখ</td>\n",
              "      <td>চিরায়ত উপন্যাস</td>\n",
              "    </tr>\n",
              "    <tr>\n",
              "      <th>2108</th>\n",
              "      <td>চোখের বালি</td>\n",
              "      <td>চিরায়ত উপন্যাস</td>\n",
              "    </tr>\n",
              "    <tr>\n",
              "      <th>1619</th>\n",
              "      <td>দুর্গেশনন্দিনী</td>\n",
              "      <td>চিরায়ত উপন্যাস</td>\n",
              "    </tr>\n",
              "    <tr>\n",
              "      <th>4911</th>\n",
              "      <td>ফিরে এসো</td>\n",
              "      <td>সমকালীন উপন্যাস</td>\n",
              "    </tr>\n",
              "  </tbody>\n",
              "</table>\n",
              "</div>"
            ],
            "text/plain": [
              "                               Title         Category\n",
              "1555                         আনন্দমঠ   চিরায়ত উপন্যাস\n",
              "5679  দ্বিতীয় প্রেম, প্রথম খেলার আগে  সমকালীন উপন্যাস\n",
              "158         ইষ্টি কুটুম মিষ্টি কুটুম              ছড়া\n",
              "4974                   দ্বিতীয় প্রেম  সমকালীন উপন্যাস\n",
              "4164           ব্যস্তমনের বহিঃপ্রকাশ      বাংলা কবিতা\n",
              "262                  নানার মস্ত বাড়ী              ছড়া\n",
              "2628                  প্রতীক্ষার সুখ   চিরায়ত উপন্যাস\n",
              "2108                      চোখের বালি   চিরায়ত উপন্যাস\n",
              "1619                  দুর্গেশনন্দিনী   চিরায়ত উপন্যাস\n",
              "4911                        ফিরে এসো  সমকালীন উপন্যাস"
            ]
          },
          "metadata": {
            "tags": []
          },
          "execution_count": 71
        }
      ]
    },
    {
      "cell_type": "code",
      "metadata": {
        "id": "M0tgEKZ60DEX",
        "colab": {
          "base_uri": "https://localhost:8080/",
          "height": 54
        },
        "outputId": "ced6521d-d7c1-406c-eddf-8922dc06cdd1"
      },
      "source": [
        "train_size = int(len(data) * .7)\n",
        "print (\"Train size: %d\" % train_size)\n",
        "print (\"Test size: %d\" % (len(data) - train_size))"
      ],
      "execution_count": null,
      "outputs": [
        {
          "output_type": "stream",
          "text": [
            "Train size: 4174\n",
            "Test size: 1790\n"
          ],
          "name": "stdout"
        }
      ]
    },
    {
      "cell_type": "code",
      "metadata": {
        "id": "YWcYSoPr0Ncn"
      },
      "source": [
        "def train_test_split(data, train_size):\n",
        "    train = data[:train_size]\n",
        "    test = data[train_size:]\n",
        "    return train, test"
      ],
      "execution_count": null,
      "outputs": []
    },
    {
      "cell_type": "code",
      "metadata": {
        "id": "vq-jtS1R0Pvg"
      },
      "source": [
        "train_cat, test_cat = train_test_split(data['Category'], train_size)\n",
        "train_text, test_text = train_test_split(data['Title'], train_size)"
      ],
      "execution_count": null,
      "outputs": []
    },
    {
      "cell_type": "code",
      "metadata": {
        "id": "lut4d0Zw0R5n"
      },
      "source": [
        "max_words = 1000\n",
        "tokenize = keras.preprocessing.text.Tokenizer(num_words=max_words, \n",
        "                                              char_level=False)"
      ],
      "execution_count": null,
      "outputs": []
    },
    {
      "cell_type": "code",
      "metadata": {
        "id": "WbBTOoTk0TkP"
      },
      "source": [
        "tokenize.fit_on_texts(train_text) # fit tokenizer to our training text data\n",
        "x_train = tokenize.texts_to_matrix(train_text)\n",
        "x_test = tokenize.texts_to_matrix(test_text)"
      ],
      "execution_count": null,
      "outputs": []
    },
    {
      "cell_type": "code",
      "metadata": {
        "id": "iqCIFNTR0Vun"
      },
      "source": [
        "encoder = LabelEncoder()\n",
        "#dummy_train = pd.get_dummies(train_cat)\n",
        "#dummy_new = pd.get_dummies(new_data)\n",
        "#dummy_new.reindex(columns = dummy_train.columns, fill_value=0)\n",
        "#encoder.fit(train_cat)\n",
        "#y_train = encoder.transform(train_cat)\n",
        "#y_test = encoder.transform(test_cat)\n",
        "\n",
        "encoder.fit(train_cat)\n",
        "#test_cat = test_cat.map(lambda s: '<unknown>' if s not in encoder.classes_ else s)\n",
        "#encoder.classes_ = np.append(encoder.classes_, '<unknown>')\n",
        "y_train = encoder.transform(train_cat)\n",
        "y_test = encoder.transform(test_cat)"
      ],
      "execution_count": null,
      "outputs": []
    },
    {
      "cell_type": "code",
      "metadata": {
        "id": "8LaBExf30XxP"
      },
      "source": [
        "num_classes = np.max(y_train) + 1\n",
        "y_train = keras.utils.to_categorical(y_train, num_classes)\n",
        "y_test = keras.utils.to_categorical(y_test, num_classes)"
      ],
      "execution_count": null,
      "outputs": []
    },
    {
      "cell_type": "code",
      "metadata": {
        "id": "HYtnk8qn0lOZ",
        "colab": {
          "base_uri": "https://localhost:8080/",
          "height": 90
        },
        "outputId": "cd1980f5-2007-4d2f-f3b4-b4d658421f01"
      },
      "source": [
        "print('x_train shape:', x_train.shape)\n",
        "print('x_test shape:', x_test.shape)\n",
        "print('y_train shape:', y_train.shape)\n",
        "print('y_test shape:', y_test.shape)\n"
      ],
      "execution_count": null,
      "outputs": [
        {
          "output_type": "stream",
          "text": [
            "x_train shape: (4174, 1000)\n",
            "x_test shape: (1790, 1000)\n",
            "y_train shape: (4174, 4)\n",
            "y_test shape: (1790, 4)\n"
          ],
          "name": "stdout"
        }
      ]
    },
    {
      "cell_type": "code",
      "metadata": {
        "id": "zTmdGsC70lsO"
      },
      "source": [
        "batch_size = 50\n",
        "epochs = 50\n",
        "drop_ratio = 0.4"
      ],
      "execution_count": null,
      "outputs": []
    },
    {
      "cell_type": "code",
      "metadata": {
        "id": "HLpqS3aq0qIv"
      },
      "source": [
        "# Build the model\n",
        "model = models.Sequential()\n",
        "model.add(layers.Dense(512, input_shape=(max_words,)))\n",
        "model.add(layers.Activation('relu'))\n",
        "model.add(layers.Dense(256, input_shape=(max_words,)))\n",
        "model.add(layers.Activation('relu'))\n",
        "#model.add(layers.Dense(128, input_shape=(max_words,)))\n",
        "#model.add(layers.Activation('relu'))\n",
        "#model.add(layers.Dropout(drop_ratio))\n",
        "model.add(layers.Dense(4))\n",
        "model.add(layers.Activation('softmax'))\n",
        "\n",
        "model.compile(loss='categorical_crossentropy',\n",
        "              optimizer='adam',\n",
        "              metrics=['accuracy'])"
      ],
      "execution_count": null,
      "outputs": []
    },
    {
      "cell_type": "code",
      "metadata": {
        "id": "Lv-fI9B7NWos",
        "colab": {
          "base_uri": "https://localhost:8080/",
          "height": 384
        },
        "outputId": "51cd548a-7960-4fdd-8b95-30b0d677dd33"
      },
      "source": [
        "model.summary()"
      ],
      "execution_count": null,
      "outputs": [
        {
          "output_type": "stream",
          "text": [
            "Model: \"sequential_5\"\n",
            "_________________________________________________________________\n",
            "Layer (type)                 Output Shape              Param #   \n",
            "=================================================================\n",
            "dense_13 (Dense)             (None, 512)               512512    \n",
            "_________________________________________________________________\n",
            "activation_13 (Activation)   (None, 512)               0         \n",
            "_________________________________________________________________\n",
            "dense_14 (Dense)             (None, 256)               131328    \n",
            "_________________________________________________________________\n",
            "activation_14 (Activation)   (None, 256)               0         \n",
            "_________________________________________________________________\n",
            "dense_15 (Dense)             (None, 4)                 1028      \n",
            "_________________________________________________________________\n",
            "activation_15 (Activation)   (None, 4)                 0         \n",
            "=================================================================\n",
            "Total params: 644,868\n",
            "Trainable params: 644,868\n",
            "Non-trainable params: 0\n",
            "_________________________________________________________________\n"
          ],
          "name": "stdout"
        }
      ]
    },
    {
      "cell_type": "code",
      "metadata": {
        "id": "BgnU5eViN2Wd"
      },
      "source": [
        "from keras.utils.vis_utils import model_to_dot\n",
        "from IPython.display import SVG\n"
      ],
      "execution_count": null,
      "outputs": []
    },
    {
      "cell_type": "code",
      "metadata": {
        "id": "2eoCn0LIOKgs",
        "colab": {
          "base_uri": "https://localhost:8080/",
          "height": 301
        },
        "outputId": "3b4a5dae-f814-4b2e-b6e3-67afaedb41eb"
      },
      "source": [
        "SVG(model_to_dot(model).create(prog='dot', format='svg'))"
      ],
      "execution_count": null,
      "outputs": [
        {
          "output_type": "error",
          "ename": "TypeError",
          "evalue": "ignored",
          "traceback": [
            "\u001b[0;31m---------------------------------------------------------------------------\u001b[0m",
            "\u001b[0;31mTypeError\u001b[0m                                 Traceback (most recent call last)",
            "\u001b[0;32m<ipython-input-84-1752a1e5a8b9>\u001b[0m in \u001b[0;36m<module>\u001b[0;34m()\u001b[0m\n\u001b[0;32m----> 1\u001b[0;31m \u001b[0mSVG\u001b[0m\u001b[0;34m(\u001b[0m\u001b[0mmodel_to_dot\u001b[0m\u001b[0;34m(\u001b[0m\u001b[0mmodel\u001b[0m\u001b[0;34m)\u001b[0m\u001b[0;34m.\u001b[0m\u001b[0mcreate\u001b[0m\u001b[0;34m(\u001b[0m\u001b[0mprog\u001b[0m\u001b[0;34m=\u001b[0m\u001b[0;34m'dot'\u001b[0m\u001b[0;34m,\u001b[0m \u001b[0mformat\u001b[0m\u001b[0;34m=\u001b[0m\u001b[0;34m'svg'\u001b[0m\u001b[0;34m)\u001b[0m\u001b[0;34m)\u001b[0m\u001b[0;34m\u001b[0m\u001b[0;34m\u001b[0m\u001b[0m\n\u001b[0m",
            "\u001b[0;32m/usr/local/lib/python3.6/dist-packages/keras/utils/vis_utils.py\u001b[0m in \u001b[0;36mmodel_to_dot\u001b[0;34m(model, show_shapes, show_layer_names, rankdir, expand_nested, dpi, subgraph)\u001b[0m\n\u001b[1;32m    167\u001b[0m             \u001b[0mnode_key\u001b[0m \u001b[0;34m=\u001b[0m \u001b[0mlayer\u001b[0m\u001b[0;34m.\u001b[0m\u001b[0mname\u001b[0m \u001b[0;34m+\u001b[0m \u001b[0;34m'_ib-'\u001b[0m \u001b[0;34m+\u001b[0m \u001b[0mstr\u001b[0m\u001b[0;34m(\u001b[0m\u001b[0mi\u001b[0m\u001b[0;34m)\u001b[0m\u001b[0;34m\u001b[0m\u001b[0;34m\u001b[0m\u001b[0m\n\u001b[1;32m    168\u001b[0m             \u001b[0;32mif\u001b[0m \u001b[0mnode_key\u001b[0m \u001b[0;32min\u001b[0m \u001b[0mmodel\u001b[0m\u001b[0;34m.\u001b[0m\u001b[0m_network_nodes\u001b[0m\u001b[0;34m:\u001b[0m\u001b[0;34m\u001b[0m\u001b[0;34m\u001b[0m\u001b[0m\n\u001b[0;32m--> 169\u001b[0;31m                 \u001b[0;32mfor\u001b[0m \u001b[0minbound_layer\u001b[0m \u001b[0;32min\u001b[0m \u001b[0mnode\u001b[0m\u001b[0;34m.\u001b[0m\u001b[0minbound_layers\u001b[0m\u001b[0;34m:\u001b[0m\u001b[0;34m\u001b[0m\u001b[0;34m\u001b[0m\u001b[0m\n\u001b[0m\u001b[1;32m    170\u001b[0m                     \u001b[0minbound_layer_id\u001b[0m \u001b[0;34m=\u001b[0m \u001b[0mstr\u001b[0m\u001b[0;34m(\u001b[0m\u001b[0mid\u001b[0m\u001b[0;34m(\u001b[0m\u001b[0minbound_layer\u001b[0m\u001b[0;34m)\u001b[0m\u001b[0;34m)\u001b[0m\u001b[0;34m\u001b[0m\u001b[0;34m\u001b[0m\u001b[0m\n\u001b[1;32m    171\u001b[0m                     \u001b[0;32mif\u001b[0m \u001b[0;32mnot\u001b[0m \u001b[0mexpand_nested\u001b[0m\u001b[0;34m:\u001b[0m\u001b[0;34m\u001b[0m\u001b[0;34m\u001b[0m\u001b[0m\n",
            "\u001b[0;31mTypeError\u001b[0m: 'InputLayer' object is not iterable"
          ]
        }
      ]
    },
    {
      "cell_type": "code",
      "metadata": {
        "id": "iUXJonJa0s0Q",
        "colab": {
          "base_uri": "https://localhost:8080/",
          "height": 1000
        },
        "outputId": "a670de97-3868-4e34-bef3-1eb547116de7"
      },
      "source": [
        "# model.fit trains the model\n",
        "# The validation_split param tells Keras what % of our training data should be used in the validation set\n",
        "# You can see the validation loss decreasing slowly when you run this\n",
        "# Because val_loss is no longer decreasing we stop training to prevent overfitting\n",
        "history = model.fit(x_train, y_train,\n",
        "                    batch_size=batch_size,\n",
        "                    epochs=epochs,\n",
        "                    verbose=1,\n",
        "                    validation_split=0.1)"
      ],
      "execution_count": null,
      "outputs": [
        {
          "output_type": "stream",
          "text": [
            "Train on 3756 samples, validate on 418 samples\n",
            "Epoch 1/50\n",
            "3756/3756 [==============================] - 1s 138us/sample - loss: 1.1003 - acc: 0.5442 - val_loss: 0.8341 - val_acc: 0.6100\n",
            "Epoch 2/50\n",
            "3756/3756 [==============================] - 0s 94us/sample - loss: 0.6507 - acc: 0.7292 - val_loss: 0.8312 - val_acc: 0.6220\n",
            "Epoch 3/50\n",
            "3756/3756 [==============================] - 0s 95us/sample - loss: 0.5119 - acc: 0.7729 - val_loss: 0.8929 - val_acc: 0.6411\n",
            "Epoch 4/50\n",
            "3756/3756 [==============================] - 0s 95us/sample - loss: 0.4362 - acc: 0.8120 - val_loss: 0.9887 - val_acc: 0.6411\n",
            "Epoch 5/50\n",
            "3756/3756 [==============================] - 0s 95us/sample - loss: 0.4024 - acc: 0.8208 - val_loss: 1.0677 - val_acc: 0.6388\n",
            "Epoch 6/50\n",
            "3756/3756 [==============================] - 0s 90us/sample - loss: 0.3825 - acc: 0.8235 - val_loss: 1.1089 - val_acc: 0.6507\n",
            "Epoch 7/50\n",
            "3756/3756 [==============================] - 0s 98us/sample - loss: 0.3779 - acc: 0.8243 - val_loss: 1.1846 - val_acc: 0.6005\n",
            "Epoch 8/50\n",
            "3756/3756 [==============================] - 0s 96us/sample - loss: 0.3692 - acc: 0.8296 - val_loss: 1.1535 - val_acc: 0.6244\n",
            "Epoch 9/50\n",
            "3756/3756 [==============================] - 0s 97us/sample - loss: 0.3592 - acc: 0.8317 - val_loss: 1.1863 - val_acc: 0.6292\n",
            "Epoch 10/50\n",
            "3756/3756 [==============================] - 0s 96us/sample - loss: 0.3564 - acc: 0.8243 - val_loss: 1.2219 - val_acc: 0.6196\n",
            "Epoch 11/50\n",
            "3756/3756 [==============================] - 0s 96us/sample - loss: 0.3586 - acc: 0.8317 - val_loss: 1.2447 - val_acc: 0.6388\n",
            "Epoch 12/50\n",
            "3756/3756 [==============================] - 0s 96us/sample - loss: 0.3493 - acc: 0.8267 - val_loss: 1.2456 - val_acc: 0.6268\n",
            "Epoch 13/50\n",
            "3756/3756 [==============================] - 0s 98us/sample - loss: 0.3541 - acc: 0.8331 - val_loss: 1.2291 - val_acc: 0.6364\n",
            "Epoch 14/50\n",
            "3756/3756 [==============================] - 0s 97us/sample - loss: 0.3500 - acc: 0.8355 - val_loss: 1.2483 - val_acc: 0.6340\n",
            "Epoch 15/50\n",
            "3756/3756 [==============================] - 0s 97us/sample - loss: 0.3500 - acc: 0.8280 - val_loss: 1.2581 - val_acc: 0.6292\n",
            "Epoch 16/50\n",
            "3756/3756 [==============================] - 0s 95us/sample - loss: 0.3480 - acc: 0.8283 - val_loss: 1.2667 - val_acc: 0.6196\n",
            "Epoch 17/50\n",
            "3756/3756 [==============================] - 0s 96us/sample - loss: 0.3459 - acc: 0.8299 - val_loss: 1.2641 - val_acc: 0.6196\n",
            "Epoch 18/50\n",
            "3756/3756 [==============================] - 0s 99us/sample - loss: 0.3454 - acc: 0.8288 - val_loss: 1.2841 - val_acc: 0.6196\n",
            "Epoch 19/50\n",
            "3756/3756 [==============================] - 0s 94us/sample - loss: 0.3422 - acc: 0.8315 - val_loss: 1.3078 - val_acc: 0.6196\n",
            "Epoch 20/50\n",
            "3756/3756 [==============================] - 0s 95us/sample - loss: 0.3385 - acc: 0.8365 - val_loss: 1.3102 - val_acc: 0.6340\n",
            "Epoch 21/50\n",
            "3756/3756 [==============================] - 0s 98us/sample - loss: 0.3377 - acc: 0.8360 - val_loss: 1.3230 - val_acc: 0.6244\n",
            "Epoch 22/50\n",
            "3756/3756 [==============================] - 0s 96us/sample - loss: 0.3342 - acc: 0.8344 - val_loss: 1.3388 - val_acc: 0.6340\n",
            "Epoch 23/50\n",
            "3756/3756 [==============================] - 0s 96us/sample - loss: 0.3334 - acc: 0.8352 - val_loss: 1.3608 - val_acc: 0.6268\n",
            "Epoch 24/50\n",
            "3756/3756 [==============================] - 0s 95us/sample - loss: 0.3353 - acc: 0.8339 - val_loss: 1.3510 - val_acc: 0.6340\n",
            "Epoch 25/50\n",
            "3756/3756 [==============================] - 0s 94us/sample - loss: 0.3335 - acc: 0.8333 - val_loss: 1.3845 - val_acc: 0.6244\n",
            "Epoch 26/50\n",
            "3756/3756 [==============================] - 0s 97us/sample - loss: 0.3336 - acc: 0.8360 - val_loss: 1.3575 - val_acc: 0.6244\n",
            "Epoch 27/50\n",
            "3756/3756 [==============================] - 0s 99us/sample - loss: 0.3313 - acc: 0.8371 - val_loss: 1.3968 - val_acc: 0.6220\n",
            "Epoch 28/50\n",
            "3756/3756 [==============================] - 0s 96us/sample - loss: 0.3302 - acc: 0.8408 - val_loss: 1.4043 - val_acc: 0.6268\n",
            "Epoch 29/50\n",
            "3756/3756 [==============================] - 0s 96us/sample - loss: 0.3307 - acc: 0.8349 - val_loss: 1.4051 - val_acc: 0.6196\n",
            "Epoch 30/50\n",
            "3756/3756 [==============================] - 0s 90us/sample - loss: 0.3300 - acc: 0.8339 - val_loss: 1.4130 - val_acc: 0.6292\n",
            "Epoch 31/50\n",
            "3756/3756 [==============================] - 0s 96us/sample - loss: 0.3290 - acc: 0.8357 - val_loss: 1.4458 - val_acc: 0.6316\n",
            "Epoch 32/50\n",
            "3756/3756 [==============================] - 0s 96us/sample - loss: 0.3280 - acc: 0.8379 - val_loss: 1.4349 - val_acc: 0.6316\n",
            "Epoch 33/50\n",
            "3756/3756 [==============================] - 0s 94us/sample - loss: 0.3283 - acc: 0.8368 - val_loss: 1.4271 - val_acc: 0.6268\n",
            "Epoch 34/50\n",
            "3756/3756 [==============================] - 0s 96us/sample - loss: 0.3275 - acc: 0.8363 - val_loss: 1.4596 - val_acc: 0.6316\n",
            "Epoch 35/50\n",
            "3756/3756 [==============================] - 0s 96us/sample - loss: 0.3255 - acc: 0.8392 - val_loss: 1.4523 - val_acc: 0.6196\n",
            "Epoch 36/50\n",
            "3756/3756 [==============================] - 0s 93us/sample - loss: 0.3242 - acc: 0.8373 - val_loss: 1.5097 - val_acc: 0.6292\n",
            "Epoch 37/50\n",
            "3756/3756 [==============================] - 0s 96us/sample - loss: 0.3260 - acc: 0.8387 - val_loss: 1.4902 - val_acc: 0.6268\n",
            "Epoch 38/50\n",
            "3756/3756 [==============================] - 0s 96us/sample - loss: 0.3243 - acc: 0.8373 - val_loss: 1.5104 - val_acc: 0.6244\n",
            "Epoch 39/50\n",
            "3756/3756 [==============================] - 0s 91us/sample - loss: 0.3241 - acc: 0.8373 - val_loss: 1.5314 - val_acc: 0.6244\n",
            "Epoch 40/50\n",
            "3756/3756 [==============================] - 0s 96us/sample - loss: 0.3250 - acc: 0.8363 - val_loss: 1.5395 - val_acc: 0.6244\n",
            "Epoch 41/50\n",
            "3756/3756 [==============================] - 0s 93us/sample - loss: 0.3260 - acc: 0.8352 - val_loss: 1.5616 - val_acc: 0.6244\n",
            "Epoch 42/50\n",
            "3756/3756 [==============================] - 0s 95us/sample - loss: 0.3240 - acc: 0.8379 - val_loss: 1.5517 - val_acc: 0.6340\n",
            "Epoch 43/50\n",
            "3756/3756 [==============================] - 0s 96us/sample - loss: 0.3236 - acc: 0.8405 - val_loss: 1.6110 - val_acc: 0.6196\n",
            "Epoch 44/50\n",
            "3756/3756 [==============================] - 0s 91us/sample - loss: 0.3232 - acc: 0.8381 - val_loss: 1.5668 - val_acc: 0.6196\n",
            "Epoch 45/50\n",
            "3756/3756 [==============================] - 0s 96us/sample - loss: 0.3239 - acc: 0.8363 - val_loss: 1.5935 - val_acc: 0.6244\n",
            "Epoch 46/50\n",
            "3756/3756 [==============================] - 0s 96us/sample - loss: 0.3218 - acc: 0.8355 - val_loss: 1.5859 - val_acc: 0.6244\n",
            "Epoch 47/50\n",
            "3756/3756 [==============================] - 0s 96us/sample - loss: 0.3208 - acc: 0.8384 - val_loss: 1.6128 - val_acc: 0.6172\n",
            "Epoch 48/50\n",
            "3756/3756 [==============================] - 0s 99us/sample - loss: 0.3215 - acc: 0.8355 - val_loss: 1.6100 - val_acc: 0.6220\n",
            "Epoch 49/50\n",
            "3756/3756 [==============================] - 0s 97us/sample - loss: 0.3220 - acc: 0.8376 - val_loss: 1.5729 - val_acc: 0.6196\n",
            "Epoch 50/50\n",
            "3756/3756 [==============================] - 0s 97us/sample - loss: 0.3216 - acc: 0.8384 - val_loss: 1.6441 - val_acc: 0.6268\n"
          ],
          "name": "stdout"
        }
      ]
    },
    {
      "cell_type": "code",
      "metadata": {
        "id": "GamGvHjS0v03",
        "colab": {
          "base_uri": "https://localhost:8080/",
          "height": 283
        },
        "outputId": "06f87b3c-a4b0-4514-e647-8bbc7ed86d7e"
      },
      "source": [
        "\n",
        "\n",
        "import matplotlib.pyplot as plt\n",
        "\n",
        "plt.plot(history.history['acc'])\n",
        "#plt.plot(history.history['val_acc'])\n",
        "plt.xlabel('epoch')\n",
        "plt.ylabel('accuracy')\n",
        "plt.legend(['train', 'validation'], loc='lower right')\n",
        "plt.show()"
      ],
      "execution_count": null,
      "outputs": [
        {
          "output_type": "display_data",
          "data": {
            "image/png": "[encoded data removed]",
            "text/plain": [
              "<Figure size 432x288 with 1 Axes>"
            ]
          },
          "metadata": {
            "tags": []
          }
        }
      ]
    },
    {
      "cell_type": "code",
      "metadata": {
        "id": "H1MwsoC61Gsf"
      },
      "source": [
        "def run_experiment(batch_size, epochs, drop_ratio):\n",
        "  print('batch size: {}, epochs: {}, drop_ratio: {}'.format(\n",
        "      batch_size, epochs, drop_ratio))\n",
        "  model = models.Sequential()\n",
        "  model.add(layers.Dense(512, input_shape=(max_words,)))\n",
        "  model.add(layers.Activation('relu'))\n",
        "  model.add(layers.Dropout(drop_ratio))\n",
        "  model.add(layers.Dense(num_classes))\n",
        "  model.add(layers.Activation('softmax'))\n",
        "\n",
        "  model.compile(loss='categorical_crossentropy',\n",
        "                optimizer='adam',\n",
        "                metrics=['accuracy'])\n",
        "  history = model.fit(x_train, y_train,\n",
        "                    batch_size=batch_size,\n",
        "                    epochs=epochs,\n",
        "                    verbose=0,\n",
        "                    validation_split=0.1)\n",
        "  score = model.evaluate(x_test, y_test,\n",
        "                       batch_size=batch_size, verbose=0)\n",
        "  print('\\tTest loss:', score[0])\n",
        "  print('\\tTest accuracy:', score[1])"
      ],
      "execution_count": null,
      "outputs": []
    },
    {
      "cell_type": "code",
      "metadata": {
        "id": "EorPTR-O1JOq",
        "colab": {
          "base_uri": "https://localhost:8080/",
          "height": 72
        },
        "outputId": "af23f66f-4364-4a7d-b54e-3727a14650e1"
      },
      "source": [
        "atch_size = 16\n",
        "epochs = 4\n",
        "drop_ratio = 0.4\n",
        "run_experiment(batch_size, epochs, drop_ratio)"
      ],
      "execution_count": null,
      "outputs": [
        {
          "output_type": "stream",
          "text": [
            "batch size: 50, epochs: 4, drop_ratio: 0.4\n",
            "\tTest loss: 0.8288721751900359\n",
            "\tTest accuracy: 0.6195531\n"
          ],
          "name": "stdout"
        }
      ]
    },
    {
      "cell_type": "code",
      "metadata": {
        "id": "1DhUHHw91K5P",
        "colab": {
          "base_uri": "https://localhost:8080/",
          "height": 1000
        },
        "outputId": "f2c564ac-d149-4ef4-f2da-cb033db30fe4"
      },
      "source": [
        "text_labels = encoder.classes_ \n",
        "\n",
        "for i in range(20):\n",
        "    prediction = model.predict(np.array([x_test[i]]))\n",
        "    predicted_label = text_labels[np.argmax(prediction)]\n",
        "    print(test_text.iloc[i][:50], \"...\")\n",
        "    print('Actual label:' + test_cat.iloc[i])\n",
        "    print(\"Predicted label: \" + predicted_label + \"\\n\")  "
      ],
      "execution_count": null,
      "outputs": [
        {
          "output_type": "stream",
          "text": [
            "রামের সুমতি ...\n",
            "Actual label:চিরায়ত উপন্যাস\n",
            "Predicted label: চিরায়ত উপন্যাস\n",
            "\n",
            "পদ্মা নদীর মাঝি ...\n",
            "Actual label:চিরায়ত উপন্যাস\n",
            "Predicted label: চিরায়ত উপন্যাস\n",
            "\n",
            "কালিদাসের শকুন্তলা ...\n",
            "Actual label:চিরায়ত উপন্যাস\n",
            "Predicted label: চিরায়ত উপন্যাস\n",
            "\n",
            "ইছামতী (রবীন্দ্র পুরস্কারপ্রাপ্ত) ...\n",
            "Actual label:চিরায়ত উপন্যাস\n",
            "Predicted label: চিরায়ত উপন্যাস\n",
            "\n",
            "অচেনা পথে ...\n",
            "Actual label:সমকালীন উপন্যাস\n",
            "Predicted label: সমকালীন উপন্যাস\n",
            "\n",
            "পঞ্চগ্রাম ...\n",
            "Actual label:চিরায়ত উপন্যাস\n",
            "Predicted label: চিরায়ত উপন্যাস\n",
            "\n",
            "অন্ধকারের হায়েনা ...\n",
            "Actual label:সমকালীন উপন্যাস\n",
            "Predicted label: সমকালীন উপন্যাস\n",
            "\n",
            "বিরহ বলয় ...\n",
            "Actual label:সমকালীন উপন্যাস\n",
            "Predicted label: সমকালীন উপন্যাস\n",
            "\n",
            "টম এন্ড জেরির ছড়া ...\n",
            "Actual label:ছড়া\n",
            "Predicted label: ছড়া\n",
            "\n",
            "নীল ময়ূরের যৌবন ...\n",
            "Actual label:সমকালীন উপন্যাস\n",
            "Predicted label: সমকালীন উপন্যাস\n",
            "\n",
            "মেঘ নয় কবিতা রাশি রাশি ...\n",
            "Actual label:বাংলা কবিতা\n",
            "Predicted label: বাংলা কবিতা\n",
            "\n",
            "ধূসর সীমান্তে ...\n",
            "Actual label:সমকালীন উপন্যাস\n",
            "Predicted label: বাংলা কবিতা\n",
            "\n",
            "তবু স্বপ্ন দেখি ...\n",
            "Actual label:বাংলা কবিতা\n",
            "Predicted label: বাংলা কবিতা\n",
            "\n",
            "বিবর্ন ফাগুন ...\n",
            "Actual label:সমকালীন উপন্যাস\n",
            "Predicted label: সমকালীন উপন্যাস\n",
            "\n",
            "আকাশের ওপারে আকাশ ...\n",
            "Actual label:সমকালীন উপন্যাস\n",
            "Predicted label: বাংলা কবিতা\n",
            "\n",
            "যদিও সন্ধ্যা ...\n",
            "Actual label:সমকালীন উপন্যাস\n",
            "Predicted label: বাংলা কবিতা\n",
            "\n",
            "আমার বন্ধুর বোন ...\n",
            "Actual label:সমকালীন উপন্যাস\n",
            "Predicted label: ছড়া\n",
            "\n",
            "বর্ণমালার গল্প ...\n",
            "Actual label:বাংলা কবিতা\n",
            "Predicted label: সমকালীন উপন্যাস\n",
            "\n",
            "দিবারাত্রির কাব্য ...\n",
            "Actual label:চিরায়ত উপন্যাস\n",
            "Predicted label: চিরায়ত উপন্যাস\n",
            "\n",
            "অন্বেষণ ...\n",
            "Actual label:সমকালীন উপন্যাস\n",
            "Predicted label: সমকালীন উপন্যাস\n",
            "\n"
          ],
          "name": "stdout"
        }
      ]
    },
    {
      "cell_type": "code",
      "metadata": {
        "id": "MSlYRx-r1Nb_"
      },
      "source": [
        "y_softmax = model.predict(x_test)\n",
        "\n",
        "y_test_1d = []\n",
        "y_pred_1d = []\n",
        "\n",
        "for i in range(len(y_test)):\n",
        "    probs = y_test[i]\n",
        "    index_arr = np.nonzero(probs)\n",
        "    one_hot_index = index_arr[0].item(0)\n",
        "    y_test_1d.append(one_hot_index)\n",
        "\n",
        "for i in range(0, len(y_softmax)):\n",
        "    probs = y_softmax[i]\n",
        "    predicted_index = np.argmax(probs)\n",
        "    y_pred_1d.append(predicted_index)"
      ],
      "execution_count": null,
      "outputs": []
    },
    {
      "cell_type": "code",
      "metadata": {
        "id": "SpaWIZy_1VPh"
      },
      "source": [
        "import matplotlib.font_manager as fm\n",
        "prop = fm.FontProperties(fname='/content/kalpurush.ttf')\n",
        "\n",
        "# This utility function is from the sklearn docs: http://scikit-learn.org/stable/auto_examples/model_selection/plot_confusion_matrix.html\n",
        "def plot_confusion_matrix(cm, classes,\n",
        "                          title='Confusion matrix',\n",
        "                          cmap=plt.cm.Blues):\n",
        "    \"\"\"\n",
        "    This function prints and plots the confusion matrix.\n",
        "    Normalization can be applied by setting `normalize=True`.\n",
        "    \"\"\"\n",
        "\n",
        "    cm = cm.astype('float') / cm.sum(axis=1)[:, np.newaxis]\n",
        "\n",
        "    plt.imshow(cm, interpolation='nearest', cmap=cmap)\n",
        "    plt.title(title, fontsize=30)\n",
        "    plt.colorbar()\n",
        "    tick_marks = np.arange(len(classes))\n",
        "    plt.xticks(tick_marks, classes, rotation=45, fontsize=10,fontproperties=prop)\n",
        "    plt.yticks(tick_marks, classes, fontsize=10, fontproperties=prop)\n",
        "\n",
        "    fmt = '.2f'\n",
        "    thresh = cm.max() / 2.\n",
        "    for i, j in itertools.product(range(cm.shape[0]), range(cm.shape[1])):\n",
        "        plt.text(j, i, format(cm[i, j], fmt),\n",
        "                 horizontalalignment=\"center\",\n",
        "                 color=\"white\" if cm[i, j] > thresh else \"black\")\n",
        "\n",
        "    plt.ylabel('True label', fontsize=10)\n",
        "    plt.xlabel('Predicted label', fontsize=10)\n",
        "\n"
      ],
      "execution_count": null,
      "outputs": []
    },
    {
      "cell_type": "code",
      "metadata": {
        "id": "xEmmK40b1Yno",
        "colab": {
          "base_uri": "https://localhost:8080/",
          "height": 607
        },
        "outputId": "68907ca7-0e17-4a4c-c072-cc237cf781e5"
      },
      "source": [
        "cnf_matrix = confusion_matrix(y_test_1d, y_pred_1d)\n",
        "plt.figure(figsize=(10,10))\n",
        "plot_confusion_matrix(cnf_matrix, classes=text_labels, title=\"Confusion matrix\")\n",
        "plt.show()"
      ],
      "execution_count": null,
      "outputs": [
        {
          "output_type": "display_data",
          "data": {
            "image/png": "[encoded data removed]",
            "text/plain": [
              "<Figure size 720x720 with 2 Axes>"
            ]
          },
          "metadata": {
            "tags": []
          }
        }
      ]
    },
    {
      "cell_type": "code",
      "metadata": {
        "id": "AqiHS0h81a64"
      },
      "source": [
        ""
      ],
      "execution_count": null,
      "outputs": []
    }
  ]
}